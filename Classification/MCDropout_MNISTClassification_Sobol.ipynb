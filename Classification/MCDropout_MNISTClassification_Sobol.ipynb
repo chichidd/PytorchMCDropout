{
 "cells": [
  {
   "cell_type": "code",
   "execution_count": 9,
   "metadata": {},
   "outputs": [],
   "source": [
    "import torch\n",
    "import torch.utils.data\n",
    "from torch import nn, optim\n",
    "from torch.nn import functional as F\n",
    "from torchvision import datasets, transforms\n",
    "import numpy as np\n",
    "import math\n",
    "import matplotlib.pyplot as plt\n",
    "from sklearn.gaussian_process.kernels import RBF\n",
    "from sklearn.metrics import confusion_matrix,accuracy_score\n",
    "from torchvision.utils import save_image"
   ]
  },
  {
   "cell_type": "code",
   "execution_count": 2,
   "metadata": {},
   "outputs": [],
   "source": [
    "class DropoutNetwork(nn.Module):\n",
    "    def __init__(self,input_dim,output_dim,proba_drop):\n",
    "        #assign module after called Module.__init__() \n",
    "        super(DropoutNetwork, self).__init__()\n",
    "        #basic parameters\n",
    "        self.input_dim=input_dim\n",
    "        self.output_dim=output_dim\n",
    "        self.proba_drop=proba_drop\n",
    "        self.hidden_dim=int((input_dim+output_dim)/2)\n",
    "        #construction of layers\n",
    "        self.layer1=nn.Linear(input_dim,self.hidden_dim)\n",
    "        self.layer2=nn.Linear(self.hidden_dim,self.hidden_dim)\n",
    "        self.layer3=nn.Linear(self.hidden_dim,self.output_dim)\n",
    "        #nn.init.normal_(self.layer1.weight)\n",
    "        #nn.init.normal_(self.layer2.weight)\n",
    "        #nn.init.normal_(self.layer3.weight)\n",
    "        \n",
    "    def forward(self, xdata,drop_inplace=False):\n",
    "        #inplace=False means input vector will not be changed\n",
    "        \n",
    "        input=xdata.view(-1,self.input_dim)\n",
    "        input=F.dropout(input,p=self.proba_drop,training=self.training,inplace=drop_inplace)\n",
    "        #Pass layer 1\n",
    "        input=self.layer1(input)\n",
    "        #Remark: training = True may be change to self.training to compare pred MCdropout and pred naive.\n",
    "        input=F.dropout(input,p=self.proba_drop,training=self.training,inplace=drop_inplace)\n",
    "        input=F.relu(input)\n",
    "        #Pass layer 2\n",
    "        input=self.layer2(input)\n",
    "        input=F.dropout(input,p=self.proba_drop,training=self.training,inplace=drop_inplace)\n",
    "        input=F.relu(input)\n",
    "        #Pass layer 3 to get the output\n",
    "        output=self.layer3(input)\n",
    "        \n",
    "        return output"
   ]
  },
  {
   "cell_type": "markdown",
   "metadata": {},
   "source": [
    "Parameters"
   ]
  },
  {
   "cell_type": "code",
   "execution_count": 3,
   "metadata": {},
   "outputs": [],
   "source": [
    "batch_size=256\n",
    "learning_rate=1e-3 #may be changed to adaptive rate\n",
    "cuda=False\n",
    "device = torch.device(\"cpu\") #\"cuda\" if args.cuda else \n",
    "input_dim=28*28\n",
    "nclasses=10\n",
    "p_drop=0.5\n",
    "n_epochs=50"
   ]
  },
  {
   "cell_type": "code",
   "execution_count": 4,
   "metadata": {},
   "outputs": [
    {
     "data": {
      "text/plain": [
       "DropoutNetwork(\n",
       "  (layer1): Linear(in_features=784, out_features=397, bias=True)\n",
       "  (layer2): Linear(in_features=397, out_features=397, bias=True)\n",
       "  (layer3): Linear(in_features=397, out_features=10, bias=True)\n",
       ")"
      ]
     },
     "execution_count": 4,
     "metadata": {},
     "output_type": "execute_result"
    }
   ],
   "source": [
    "model=DropoutNetwork(input_dim,nclasses,p_drop)\n",
    "model.load_state_dict(torch.load(\"model_sobol.pt\"))\n",
    "model.eval()"
   ]
  },
  {
   "cell_type": "code",
   "execution_count": 133,
   "metadata": {},
   "outputs": [],
   "source": [
    "kwargs = {'num_workers': 1, 'pin_memory': True} if cuda else {}\n",
    "\n",
    "train_loader = torch.utils.data.DataLoader(\n",
    "    datasets.MNIST('data', train=True, download=True,\n",
    "                   transform=transforms.ToTensor()),\n",
    "    batch_size=batch_size, shuffle=True, **kwargs)\n",
    "\n",
    "test_loader = torch.utils.data.DataLoader(\n",
    "    datasets.MNIST('data', train=False, transform=transforms.ToTensor()),\n",
    "    batch_size=batch_size, shuffle=True, **kwargs)"
   ]
  },
  {
   "cell_type": "code",
   "execution_count": 134,
   "metadata": {},
   "outputs": [],
   "source": [
    "def train(n_epochs=50,display_step=10,criterion = nn.CrossEntropyLoss()):\n",
    "    model.train()\n",
    "    \n",
    "    for epoch in range(n_epochs):\n",
    "        epoch_loss=0\n",
    "        \n",
    "        optimizer = torch.optim.Adam(model.parameters(), lr=learning_rate/(epoch+1))\n",
    "        \n",
    "        for batch_idx, (xdata,ydata) in enumerate(train_loader):\n",
    "            #if we have cuda\n",
    "            xdata=xdata.to(device)\n",
    "            ydata=ydata.to(device)\n",
    "\n",
    "            optimizer.zero_grad()\n",
    "            output=model(xdata)\n",
    "            \n",
    "            loss=criterion(output,ydata)\n",
    "            epoch_loss+=loss.item()\n",
    "            loss.backward()\n",
    "            optimizer.step()\n",
    "            \n",
    "            if batch_idx % display_step==0:\n",
    "                print('Train Epoch: {} [{}/{} ({:.0f}%)] lr: {}\\tLoss: {:.6f}'\n",
    "                  .format(epoch+1, batch_idx * len(ydata),\n",
    "                          len(train_loader.dataset),\n",
    "                          100. * batch_idx / len(train_loader),\n",
    "                          learning_rate/(epoch+1), loss.item()))\n",
    "        print(\"Finish {} epoch(s). Epoch loss: {}.\".format(epoch+1,epoch_loss/len(train_loader)))\n",
    "        "
   ]
  },
  {
   "cell_type": "code",
   "execution_count": 135,
   "metadata": {
    "scrolled": true
   },
   "outputs": [
    {
     "name": "stdout",
     "output_type": "stream",
     "text": [
      "Train Epoch: 1 [0/60000 (0%)] lr: 0.001\tLoss: 2.309275\n",
      "Train Epoch: 1 [2560/60000 (4%)] lr: 0.001\tLoss: 1.926364\n",
      "Train Epoch: 1 [5120/60000 (9%)] lr: 0.001\tLoss: 1.042235\n",
      "Train Epoch: 1 [7680/60000 (13%)] lr: 0.001\tLoss: 0.755093\n",
      "Train Epoch: 1 [10240/60000 (17%)] lr: 0.001\tLoss: 0.839728\n",
      "Train Epoch: 1 [12800/60000 (21%)] lr: 0.001\tLoss: 0.802636\n",
      "Train Epoch: 1 [15360/60000 (26%)] lr: 0.001\tLoss: 0.635731\n",
      "Train Epoch: 1 [17920/60000 (30%)] lr: 0.001\tLoss: 0.679965\n",
      "Train Epoch: 1 [20480/60000 (34%)] lr: 0.001\tLoss: 0.546629\n",
      "Train Epoch: 1 [23040/60000 (38%)] lr: 0.001\tLoss: 0.503217\n",
      "Train Epoch: 1 [25600/60000 (43%)] lr: 0.001\tLoss: 0.530435\n",
      "Train Epoch: 1 [28160/60000 (47%)] lr: 0.001\tLoss: 0.510369\n",
      "Train Epoch: 1 [30720/60000 (51%)] lr: 0.001\tLoss: 0.495866\n",
      "Train Epoch: 1 [33280/60000 (55%)] lr: 0.001\tLoss: 0.480797\n",
      "Train Epoch: 1 [35840/60000 (60%)] lr: 0.001\tLoss: 0.409424\n",
      "Train Epoch: 1 [38400/60000 (64%)] lr: 0.001\tLoss: 0.419781\n",
      "Train Epoch: 1 [40960/60000 (68%)] lr: 0.001\tLoss: 0.360056\n",
      "Train Epoch: 1 [43520/60000 (72%)] lr: 0.001\tLoss: 0.329155\n",
      "Train Epoch: 1 [46080/60000 (77%)] lr: 0.001\tLoss: 0.431694\n",
      "Train Epoch: 1 [48640/60000 (81%)] lr: 0.001\tLoss: 0.376250\n",
      "Train Epoch: 1 [51200/60000 (85%)] lr: 0.001\tLoss: 0.460901\n",
      "Train Epoch: 1 [53760/60000 (89%)] lr: 0.001\tLoss: 0.337826\n",
      "Train Epoch: 1 [56320/60000 (94%)] lr: 0.001\tLoss: 0.383915\n",
      "Train Epoch: 1 [58880/60000 (98%)] lr: 0.001\tLoss: 0.368414\n",
      "Finish 1 epoch(s). Epoch loss: 0.6412999474621833.\n",
      "Train Epoch: 2 [0/60000 (0%)] lr: 0.0005\tLoss: 0.261518\n",
      "Train Epoch: 2 [2560/60000 (4%)] lr: 0.0005\tLoss: 0.391399\n",
      "Train Epoch: 2 [5120/60000 (9%)] lr: 0.0005\tLoss: 0.338748\n",
      "Train Epoch: 2 [7680/60000 (13%)] lr: 0.0005\tLoss: 0.420382\n",
      "Train Epoch: 2 [10240/60000 (17%)] lr: 0.0005\tLoss: 0.358629\n",
      "Train Epoch: 2 [12800/60000 (21%)] lr: 0.0005\tLoss: 0.340054\n",
      "Train Epoch: 2 [15360/60000 (26%)] lr: 0.0005\tLoss: 0.294455\n",
      "Train Epoch: 2 [17920/60000 (30%)] lr: 0.0005\tLoss: 0.301066\n",
      "Train Epoch: 2 [20480/60000 (34%)] lr: 0.0005\tLoss: 0.409533\n",
      "Train Epoch: 2 [23040/60000 (38%)] lr: 0.0005\tLoss: 0.357187\n",
      "Train Epoch: 2 [25600/60000 (43%)] lr: 0.0005\tLoss: 0.334901\n",
      "Train Epoch: 2 [28160/60000 (47%)] lr: 0.0005\tLoss: 0.308965\n",
      "Train Epoch: 2 [30720/60000 (51%)] lr: 0.0005\tLoss: 0.235907\n",
      "Train Epoch: 2 [33280/60000 (55%)] lr: 0.0005\tLoss: 0.394800\n",
      "Train Epoch: 2 [35840/60000 (60%)] lr: 0.0005\tLoss: 0.296488\n",
      "Train Epoch: 2 [38400/60000 (64%)] lr: 0.0005\tLoss: 0.240811\n",
      "Train Epoch: 2 [40960/60000 (68%)] lr: 0.0005\tLoss: 0.273671\n",
      "Train Epoch: 2 [43520/60000 (72%)] lr: 0.0005\tLoss: 0.364673\n",
      "Train Epoch: 2 [46080/60000 (77%)] lr: 0.0005\tLoss: 0.288867\n",
      "Train Epoch: 2 [48640/60000 (81%)] lr: 0.0005\tLoss: 0.246228\n",
      "Train Epoch: 2 [51200/60000 (85%)] lr: 0.0005\tLoss: 0.362321\n",
      "Train Epoch: 2 [53760/60000 (89%)] lr: 0.0005\tLoss: 0.242596\n",
      "Train Epoch: 2 [56320/60000 (94%)] lr: 0.0005\tLoss: 0.318804\n",
      "Train Epoch: 2 [58880/60000 (98%)] lr: 0.0005\tLoss: 0.314596\n",
      "Finish 2 epoch(s). Epoch loss: 0.3294696961311584.\n",
      "Train Epoch: 3 [0/60000 (0%)] lr: 0.0003333333333333333\tLoss: 0.274631\n",
      "Train Epoch: 3 [2560/60000 (4%)] lr: 0.0003333333333333333\tLoss: 0.338689\n",
      "Train Epoch: 3 [5120/60000 (9%)] lr: 0.0003333333333333333\tLoss: 0.305261\n",
      "Train Epoch: 3 [7680/60000 (13%)] lr: 0.0003333333333333333\tLoss: 0.258734\n",
      "Train Epoch: 3 [10240/60000 (17%)] lr: 0.0003333333333333333\tLoss: 0.257900\n",
      "Train Epoch: 3 [12800/60000 (21%)] lr: 0.0003333333333333333\tLoss: 0.345175\n",
      "Train Epoch: 3 [15360/60000 (26%)] lr: 0.0003333333333333333\tLoss: 0.250848\n",
      "Train Epoch: 3 [17920/60000 (30%)] lr: 0.0003333333333333333\tLoss: 0.307929\n",
      "Train Epoch: 3 [20480/60000 (34%)] lr: 0.0003333333333333333\tLoss: 0.261932\n",
      "Train Epoch: 3 [23040/60000 (38%)] lr: 0.0003333333333333333\tLoss: 0.307754\n",
      "Train Epoch: 3 [25600/60000 (43%)] lr: 0.0003333333333333333\tLoss: 0.315635\n",
      "Train Epoch: 3 [28160/60000 (47%)] lr: 0.0003333333333333333\tLoss: 0.293388\n",
      "Train Epoch: 3 [30720/60000 (51%)] lr: 0.0003333333333333333\tLoss: 0.178765\n",
      "Train Epoch: 3 [33280/60000 (55%)] lr: 0.0003333333333333333\tLoss: 0.363466\n",
      "Train Epoch: 3 [35840/60000 (60%)] lr: 0.0003333333333333333\tLoss: 0.259797\n",
      "Train Epoch: 3 [38400/60000 (64%)] lr: 0.0003333333333333333\tLoss: 0.269078\n",
      "Train Epoch: 3 [40960/60000 (68%)] lr: 0.0003333333333333333\tLoss: 0.248812\n",
      "Train Epoch: 3 [43520/60000 (72%)] lr: 0.0003333333333333333\tLoss: 0.286825\n",
      "Train Epoch: 3 [46080/60000 (77%)] lr: 0.0003333333333333333\tLoss: 0.409481\n",
      "Train Epoch: 3 [48640/60000 (81%)] lr: 0.0003333333333333333\tLoss: 0.227779\n",
      "Train Epoch: 3 [51200/60000 (85%)] lr: 0.0003333333333333333\tLoss: 0.429265\n",
      "Train Epoch: 3 [53760/60000 (89%)] lr: 0.0003333333333333333\tLoss: 0.307957\n",
      "Train Epoch: 3 [56320/60000 (94%)] lr: 0.0003333333333333333\tLoss: 0.259386\n",
      "Train Epoch: 3 [58880/60000 (98%)] lr: 0.0003333333333333333\tLoss: 0.206983\n",
      "Finish 3 epoch(s). Epoch loss: 0.28136474915007326.\n",
      "Train Epoch: 4 [0/60000 (0%)] lr: 0.00025\tLoss: 0.206141\n",
      "Train Epoch: 4 [2560/60000 (4%)] lr: 0.00025\tLoss: 0.213241\n",
      "Train Epoch: 4 [5120/60000 (9%)] lr: 0.00025\tLoss: 0.216382\n",
      "Train Epoch: 4 [7680/60000 (13%)] lr: 0.00025\tLoss: 0.230913\n",
      "Train Epoch: 4 [10240/60000 (17%)] lr: 0.00025\tLoss: 0.270477\n",
      "Train Epoch: 4 [12800/60000 (21%)] lr: 0.00025\tLoss: 0.185769\n",
      "Train Epoch: 4 [15360/60000 (26%)] lr: 0.00025\tLoss: 0.287481\n",
      "Train Epoch: 4 [17920/60000 (30%)] lr: 0.00025\tLoss: 0.248591\n",
      "Train Epoch: 4 [20480/60000 (34%)] lr: 0.00025\tLoss: 0.275255\n",
      "Train Epoch: 4 [23040/60000 (38%)] lr: 0.00025\tLoss: 0.337267\n",
      "Train Epoch: 4 [25600/60000 (43%)] lr: 0.00025\tLoss: 0.182248\n",
      "Train Epoch: 4 [28160/60000 (47%)] lr: 0.00025\tLoss: 0.269339\n",
      "Train Epoch: 4 [30720/60000 (51%)] lr: 0.00025\tLoss: 0.312162\n",
      "Train Epoch: 4 [33280/60000 (55%)] lr: 0.00025\tLoss: 0.325679\n",
      "Train Epoch: 4 [35840/60000 (60%)] lr: 0.00025\tLoss: 0.299421\n",
      "Train Epoch: 4 [38400/60000 (64%)] lr: 0.00025\tLoss: 0.198960\n",
      "Train Epoch: 4 [40960/60000 (68%)] lr: 0.00025\tLoss: 0.259791\n",
      "Train Epoch: 4 [43520/60000 (72%)] lr: 0.00025\tLoss: 0.229228\n",
      "Train Epoch: 4 [46080/60000 (77%)] lr: 0.00025\tLoss: 0.261724\n",
      "Train Epoch: 4 [48640/60000 (81%)] lr: 0.00025\tLoss: 0.282848\n",
      "Train Epoch: 4 [51200/60000 (85%)] lr: 0.00025\tLoss: 0.251758\n",
      "Train Epoch: 4 [53760/60000 (89%)] lr: 0.00025\tLoss: 0.256168\n",
      "Train Epoch: 4 [56320/60000 (94%)] lr: 0.00025\tLoss: 0.225880\n",
      "Train Epoch: 4 [58880/60000 (98%)] lr: 0.00025\tLoss: 0.214181\n",
      "Finish 4 epoch(s). Epoch loss: 0.2587802319450581.\n",
      "Train Epoch: 5 [0/60000 (0%)] lr: 0.0002\tLoss: 0.169662\n",
      "Train Epoch: 5 [2560/60000 (4%)] lr: 0.0002\tLoss: 0.170436\n",
      "Train Epoch: 5 [5120/60000 (9%)] lr: 0.0002\tLoss: 0.206190\n",
      "Train Epoch: 5 [7680/60000 (13%)] lr: 0.0002\tLoss: 0.283037\n",
      "Train Epoch: 5 [10240/60000 (17%)] lr: 0.0002\tLoss: 0.209218\n",
      "Train Epoch: 5 [12800/60000 (21%)] lr: 0.0002\tLoss: 0.275786\n",
      "Train Epoch: 5 [15360/60000 (26%)] lr: 0.0002\tLoss: 0.294064\n",
      "Train Epoch: 5 [17920/60000 (30%)] lr: 0.0002\tLoss: 0.278677\n",
      "Train Epoch: 5 [20480/60000 (34%)] lr: 0.0002\tLoss: 0.283070\n",
      "Train Epoch: 5 [23040/60000 (38%)] lr: 0.0002\tLoss: 0.191171\n",
      "Train Epoch: 5 [25600/60000 (43%)] lr: 0.0002\tLoss: 0.194257\n",
      "Train Epoch: 5 [28160/60000 (47%)] lr: 0.0002\tLoss: 0.297083\n",
      "Train Epoch: 5 [30720/60000 (51%)] lr: 0.0002\tLoss: 0.274421\n",
      "Train Epoch: 5 [33280/60000 (55%)] lr: 0.0002\tLoss: 0.180988\n",
      "Train Epoch: 5 [35840/60000 (60%)] lr: 0.0002\tLoss: 0.196692\n",
      "Train Epoch: 5 [38400/60000 (64%)] lr: 0.0002\tLoss: 0.298265\n",
      "Train Epoch: 5 [40960/60000 (68%)] lr: 0.0002\tLoss: 0.255747\n",
      "Train Epoch: 5 [43520/60000 (72%)] lr: 0.0002\tLoss: 0.233234\n",
      "Train Epoch: 5 [46080/60000 (77%)] lr: 0.0002\tLoss: 0.227392\n",
      "Train Epoch: 5 [48640/60000 (81%)] lr: 0.0002\tLoss: 0.218091\n",
      "Train Epoch: 5 [51200/60000 (85%)] lr: 0.0002\tLoss: 0.277052\n",
      "Train Epoch: 5 [53760/60000 (89%)] lr: 0.0002\tLoss: 0.158164\n",
      "Train Epoch: 5 [56320/60000 (94%)] lr: 0.0002\tLoss: 0.196309\n",
      "Train Epoch: 5 [58880/60000 (98%)] lr: 0.0002\tLoss: 0.327461\n",
      "Finish 5 epoch(s). Epoch loss: 0.239409162009016.\n",
      "Train Epoch: 6 [0/60000 (0%)] lr: 0.00016666666666666666\tLoss: 0.243889\n",
      "Train Epoch: 6 [2560/60000 (4%)] lr: 0.00016666666666666666\tLoss: 0.270230\n",
      "Train Epoch: 6 [5120/60000 (9%)] lr: 0.00016666666666666666\tLoss: 0.262484\n",
      "Train Epoch: 6 [7680/60000 (13%)] lr: 0.00016666666666666666\tLoss: 0.236017\n",
      "Train Epoch: 6 [10240/60000 (17%)] lr: 0.00016666666666666666\tLoss: 0.226601\n"
     ]
    },
    {
     "name": "stdout",
     "output_type": "stream",
     "text": [
      "Train Epoch: 6 [12800/60000 (21%)] lr: 0.00016666666666666666\tLoss: 0.254707\n",
      "Train Epoch: 6 [15360/60000 (26%)] lr: 0.00016666666666666666\tLoss: 0.217038\n",
      "Train Epoch: 6 [17920/60000 (30%)] lr: 0.00016666666666666666\tLoss: 0.266696\n",
      "Train Epoch: 6 [20480/60000 (34%)] lr: 0.00016666666666666666\tLoss: 0.261946\n",
      "Train Epoch: 6 [23040/60000 (38%)] lr: 0.00016666666666666666\tLoss: 0.198198\n",
      "Train Epoch: 6 [25600/60000 (43%)] lr: 0.00016666666666666666\tLoss: 0.268542\n",
      "Train Epoch: 6 [28160/60000 (47%)] lr: 0.00016666666666666666\tLoss: 0.227472\n",
      "Train Epoch: 6 [30720/60000 (51%)] lr: 0.00016666666666666666\tLoss: 0.230240\n",
      "Train Epoch: 6 [33280/60000 (55%)] lr: 0.00016666666666666666\tLoss: 0.177749\n",
      "Train Epoch: 6 [35840/60000 (60%)] lr: 0.00016666666666666666\tLoss: 0.222963\n",
      "Train Epoch: 6 [38400/60000 (64%)] lr: 0.00016666666666666666\tLoss: 0.244131\n",
      "Train Epoch: 6 [40960/60000 (68%)] lr: 0.00016666666666666666\tLoss: 0.318972\n",
      "Train Epoch: 6 [43520/60000 (72%)] lr: 0.00016666666666666666\tLoss: 0.298404\n",
      "Train Epoch: 6 [46080/60000 (77%)] lr: 0.00016666666666666666\tLoss: 0.237713\n",
      "Train Epoch: 6 [48640/60000 (81%)] lr: 0.00016666666666666666\tLoss: 0.175835\n",
      "Train Epoch: 6 [51200/60000 (85%)] lr: 0.00016666666666666666\tLoss: 0.272228\n",
      "Train Epoch: 6 [53760/60000 (89%)] lr: 0.00016666666666666666\tLoss: 0.340121\n",
      "Train Epoch: 6 [56320/60000 (94%)] lr: 0.00016666666666666666\tLoss: 0.165918\n",
      "Train Epoch: 6 [58880/60000 (98%)] lr: 0.00016666666666666666\tLoss: 0.210722\n",
      "Finish 6 epoch(s). Epoch loss: 0.2313913733401197.\n",
      "Train Epoch: 7 [0/60000 (0%)] lr: 0.00014285714285714287\tLoss: 0.229908\n",
      "Train Epoch: 7 [2560/60000 (4%)] lr: 0.00014285714285714287\tLoss: 0.184458\n",
      "Train Epoch: 7 [5120/60000 (9%)] lr: 0.00014285714285714287\tLoss: 0.165177\n",
      "Train Epoch: 7 [7680/60000 (13%)] lr: 0.00014285714285714287\tLoss: 0.187425\n",
      "Train Epoch: 7 [10240/60000 (17%)] lr: 0.00014285714285714287\tLoss: 0.251367\n",
      "Train Epoch: 7 [12800/60000 (21%)] lr: 0.00014285714285714287\tLoss: 0.208077\n",
      "Train Epoch: 7 [15360/60000 (26%)] lr: 0.00014285714285714287\tLoss: 0.258620\n",
      "Train Epoch: 7 [17920/60000 (30%)] lr: 0.00014285714285714287\tLoss: 0.254744\n",
      "Train Epoch: 7 [20480/60000 (34%)] lr: 0.00014285714285714287\tLoss: 0.213335\n",
      "Train Epoch: 7 [23040/60000 (38%)] lr: 0.00014285714285714287\tLoss: 0.217603\n",
      "Train Epoch: 7 [25600/60000 (43%)] lr: 0.00014285714285714287\tLoss: 0.177125\n",
      "Train Epoch: 7 [28160/60000 (47%)] lr: 0.00014285714285714287\tLoss: 0.230229\n",
      "Train Epoch: 7 [30720/60000 (51%)] lr: 0.00014285714285714287\tLoss: 0.223149\n",
      "Train Epoch: 7 [33280/60000 (55%)] lr: 0.00014285714285714287\tLoss: 0.125852\n",
      "Train Epoch: 7 [35840/60000 (60%)] lr: 0.00014285714285714287\tLoss: 0.212591\n",
      "Train Epoch: 7 [38400/60000 (64%)] lr: 0.00014285714285714287\tLoss: 0.343287\n",
      "Train Epoch: 7 [40960/60000 (68%)] lr: 0.00014285714285714287\tLoss: 0.216988\n",
      "Train Epoch: 7 [43520/60000 (72%)] lr: 0.00014285714285714287\tLoss: 0.278900\n",
      "Train Epoch: 7 [46080/60000 (77%)] lr: 0.00014285714285714287\tLoss: 0.222473\n",
      "Train Epoch: 7 [48640/60000 (81%)] lr: 0.00014285714285714287\tLoss: 0.236740\n",
      "Train Epoch: 7 [51200/60000 (85%)] lr: 0.00014285714285714287\tLoss: 0.230691\n",
      "Train Epoch: 7 [53760/60000 (89%)] lr: 0.00014285714285714287\tLoss: 0.221190\n",
      "Train Epoch: 7 [56320/60000 (94%)] lr: 0.00014285714285714287\tLoss: 0.218343\n",
      "Train Epoch: 7 [58880/60000 (98%)] lr: 0.00014285714285714287\tLoss: 0.301873\n",
      "Finish 7 epoch(s). Epoch loss: 0.22015188317349615.\n",
      "Train Epoch: 8 [0/60000 (0%)] lr: 0.000125\tLoss: 0.249703\n",
      "Train Epoch: 8 [2560/60000 (4%)] lr: 0.000125\tLoss: 0.172665\n",
      "Train Epoch: 8 [5120/60000 (9%)] lr: 0.000125\tLoss: 0.197699\n",
      "Train Epoch: 8 [7680/60000 (13%)] lr: 0.000125\tLoss: 0.256509\n",
      "Train Epoch: 8 [10240/60000 (17%)] lr: 0.000125\tLoss: 0.181340\n",
      "Train Epoch: 8 [12800/60000 (21%)] lr: 0.000125\tLoss: 0.173988\n",
      "Train Epoch: 8 [15360/60000 (26%)] lr: 0.000125\tLoss: 0.232345\n",
      "Train Epoch: 8 [17920/60000 (30%)] lr: 0.000125\tLoss: 0.155786\n",
      "Train Epoch: 8 [20480/60000 (34%)] lr: 0.000125\tLoss: 0.196663\n",
      "Train Epoch: 8 [23040/60000 (38%)] lr: 0.000125\tLoss: 0.231021\n",
      "Train Epoch: 8 [25600/60000 (43%)] lr: 0.000125\tLoss: 0.225191\n",
      "Train Epoch: 8 [28160/60000 (47%)] lr: 0.000125\tLoss: 0.207454\n",
      "Train Epoch: 8 [30720/60000 (51%)] lr: 0.000125\tLoss: 0.179605\n",
      "Train Epoch: 8 [33280/60000 (55%)] lr: 0.000125\tLoss: 0.161198\n",
      "Train Epoch: 8 [35840/60000 (60%)] lr: 0.000125\tLoss: 0.232814\n",
      "Train Epoch: 8 [38400/60000 (64%)] lr: 0.000125\tLoss: 0.196807\n",
      "Train Epoch: 8 [40960/60000 (68%)] lr: 0.000125\tLoss: 0.367517\n",
      "Train Epoch: 8 [43520/60000 (72%)] lr: 0.000125\tLoss: 0.206971\n",
      "Train Epoch: 8 [46080/60000 (77%)] lr: 0.000125\tLoss: 0.180024\n",
      "Train Epoch: 8 [48640/60000 (81%)] lr: 0.000125\tLoss: 0.188697\n",
      "Train Epoch: 8 [51200/60000 (85%)] lr: 0.000125\tLoss: 0.134353\n",
      "Train Epoch: 8 [53760/60000 (89%)] lr: 0.000125\tLoss: 0.223871\n",
      "Train Epoch: 8 [56320/60000 (94%)] lr: 0.000125\tLoss: 0.252249\n",
      "Train Epoch: 8 [58880/60000 (98%)] lr: 0.000125\tLoss: 0.269248\n",
      "Finish 8 epoch(s). Epoch loss: 0.21715328243184598.\n",
      "Train Epoch: 9 [0/60000 (0%)] lr: 0.00011111111111111112\tLoss: 0.240872\n",
      "Train Epoch: 9 [2560/60000 (4%)] lr: 0.00011111111111111112\tLoss: 0.265315\n",
      "Train Epoch: 9 [5120/60000 (9%)] lr: 0.00011111111111111112\tLoss: 0.305818\n",
      "Train Epoch: 9 [7680/60000 (13%)] lr: 0.00011111111111111112\tLoss: 0.280699\n",
      "Train Epoch: 9 [10240/60000 (17%)] lr: 0.00011111111111111112\tLoss: 0.171404\n",
      "Train Epoch: 9 [12800/60000 (21%)] lr: 0.00011111111111111112\tLoss: 0.171687\n",
      "Train Epoch: 9 [15360/60000 (26%)] lr: 0.00011111111111111112\tLoss: 0.239198\n",
      "Train Epoch: 9 [17920/60000 (30%)] lr: 0.00011111111111111112\tLoss: 0.192428\n",
      "Train Epoch: 9 [20480/60000 (34%)] lr: 0.00011111111111111112\tLoss: 0.222981\n",
      "Train Epoch: 9 [23040/60000 (38%)] lr: 0.00011111111111111112\tLoss: 0.278996\n",
      "Train Epoch: 9 [25600/60000 (43%)] lr: 0.00011111111111111112\tLoss: 0.190238\n",
      "Train Epoch: 9 [28160/60000 (47%)] lr: 0.00011111111111111112\tLoss: 0.218315\n",
      "Train Epoch: 9 [30720/60000 (51%)] lr: 0.00011111111111111112\tLoss: 0.171623\n",
      "Train Epoch: 9 [33280/60000 (55%)] lr: 0.00011111111111111112\tLoss: 0.295481\n",
      "Train Epoch: 9 [35840/60000 (60%)] lr: 0.00011111111111111112\tLoss: 0.213483\n",
      "Train Epoch: 9 [38400/60000 (64%)] lr: 0.00011111111111111112\tLoss: 0.178828\n",
      "Train Epoch: 9 [40960/60000 (68%)] lr: 0.00011111111111111112\tLoss: 0.192375\n",
      "Train Epoch: 9 [43520/60000 (72%)] lr: 0.00011111111111111112\tLoss: 0.291676\n",
      "Train Epoch: 9 [46080/60000 (77%)] lr: 0.00011111111111111112\tLoss: 0.242564\n",
      "Train Epoch: 9 [48640/60000 (81%)] lr: 0.00011111111111111112\tLoss: 0.220282\n",
      "Train Epoch: 9 [51200/60000 (85%)] lr: 0.00011111111111111112\tLoss: 0.229271\n",
      "Train Epoch: 9 [53760/60000 (89%)] lr: 0.00011111111111111112\tLoss: 0.173866\n",
      "Train Epoch: 9 [56320/60000 (94%)] lr: 0.00011111111111111112\tLoss: 0.229215\n",
      "Train Epoch: 9 [58880/60000 (98%)] lr: 0.00011111111111111112\tLoss: 0.199229\n",
      "Finish 9 epoch(s). Epoch loss: 0.2102731687908477.\n",
      "Train Epoch: 10 [0/60000 (0%)] lr: 0.0001\tLoss: 0.150960\n",
      "Train Epoch: 10 [2560/60000 (4%)] lr: 0.0001\tLoss: 0.273897\n",
      "Train Epoch: 10 [5120/60000 (9%)] lr: 0.0001\tLoss: 0.111338\n",
      "Train Epoch: 10 [7680/60000 (13%)] lr: 0.0001\tLoss: 0.213911\n",
      "Train Epoch: 10 [10240/60000 (17%)] lr: 0.0001\tLoss: 0.193967\n",
      "Train Epoch: 10 [12800/60000 (21%)] lr: 0.0001\tLoss: 0.198416\n",
      "Train Epoch: 10 [15360/60000 (26%)] lr: 0.0001\tLoss: 0.225192\n",
      "Train Epoch: 10 [17920/60000 (30%)] lr: 0.0001\tLoss: 0.203830\n",
      "Train Epoch: 10 [20480/60000 (34%)] lr: 0.0001\tLoss: 0.178010\n",
      "Train Epoch: 10 [23040/60000 (38%)] lr: 0.0001\tLoss: 0.223478\n",
      "Train Epoch: 10 [25600/60000 (43%)] lr: 0.0001\tLoss: 0.210612\n",
      "Train Epoch: 10 [28160/60000 (47%)] lr: 0.0001\tLoss: 0.211159\n",
      "Train Epoch: 10 [30720/60000 (51%)] lr: 0.0001\tLoss: 0.218081\n",
      "Train Epoch: 10 [33280/60000 (55%)] lr: 0.0001\tLoss: 0.162510\n",
      "Train Epoch: 10 [35840/60000 (60%)] lr: 0.0001\tLoss: 0.171400\n",
      "Train Epoch: 10 [38400/60000 (64%)] lr: 0.0001\tLoss: 0.198381\n",
      "Train Epoch: 10 [40960/60000 (68%)] lr: 0.0001\tLoss: 0.250200\n",
      "Train Epoch: 10 [43520/60000 (72%)] lr: 0.0001\tLoss: 0.271057\n",
      "Train Epoch: 10 [46080/60000 (77%)] lr: 0.0001\tLoss: 0.169123\n",
      "Train Epoch: 10 [48640/60000 (81%)] lr: 0.0001\tLoss: 0.228428\n",
      "Train Epoch: 10 [51200/60000 (85%)] lr: 0.0001\tLoss: 0.185652\n",
      "Train Epoch: 10 [53760/60000 (89%)] lr: 0.0001\tLoss: 0.278359\n"
     ]
    },
    {
     "name": "stdout",
     "output_type": "stream",
     "text": [
      "Train Epoch: 10 [56320/60000 (94%)] lr: 0.0001\tLoss: 0.139069\n",
      "Train Epoch: 10 [58880/60000 (98%)] lr: 0.0001\tLoss: 0.180913\n",
      "Finish 10 epoch(s). Epoch loss: 0.20511478252233342.\n",
      "Train Epoch: 11 [0/60000 (0%)] lr: 9.090909090909092e-05\tLoss: 0.163189\n",
      "Train Epoch: 11 [2560/60000 (4%)] lr: 9.090909090909092e-05\tLoss: 0.170756\n",
      "Train Epoch: 11 [5120/60000 (9%)] lr: 9.090909090909092e-05\tLoss: 0.163780\n",
      "Train Epoch: 11 [7680/60000 (13%)] lr: 9.090909090909092e-05\tLoss: 0.166816\n",
      "Train Epoch: 11 [10240/60000 (17%)] lr: 9.090909090909092e-05\tLoss: 0.280694\n",
      "Train Epoch: 11 [12800/60000 (21%)] lr: 9.090909090909092e-05\tLoss: 0.176876\n",
      "Train Epoch: 11 [15360/60000 (26%)] lr: 9.090909090909092e-05\tLoss: 0.175879\n",
      "Train Epoch: 11 [17920/60000 (30%)] lr: 9.090909090909092e-05\tLoss: 0.199217\n",
      "Train Epoch: 11 [20480/60000 (34%)] lr: 9.090909090909092e-05\tLoss: 0.271255\n",
      "Train Epoch: 11 [23040/60000 (38%)] lr: 9.090909090909092e-05\tLoss: 0.140878\n",
      "Train Epoch: 11 [25600/60000 (43%)] lr: 9.090909090909092e-05\tLoss: 0.203049\n",
      "Train Epoch: 11 [28160/60000 (47%)] lr: 9.090909090909092e-05\tLoss: 0.178514\n",
      "Train Epoch: 11 [30720/60000 (51%)] lr: 9.090909090909092e-05\tLoss: 0.200657\n",
      "Train Epoch: 11 [33280/60000 (55%)] lr: 9.090909090909092e-05\tLoss: 0.221057\n",
      "Train Epoch: 11 [35840/60000 (60%)] lr: 9.090909090909092e-05\tLoss: 0.170081\n",
      "Train Epoch: 11 [38400/60000 (64%)] lr: 9.090909090909092e-05\tLoss: 0.254879\n",
      "Train Epoch: 11 [40960/60000 (68%)] lr: 9.090909090909092e-05\tLoss: 0.156480\n",
      "Train Epoch: 11 [43520/60000 (72%)] lr: 9.090909090909092e-05\tLoss: 0.149743\n",
      "Train Epoch: 11 [46080/60000 (77%)] lr: 9.090909090909092e-05\tLoss: 0.217009\n",
      "Train Epoch: 11 [48640/60000 (81%)] lr: 9.090909090909092e-05\tLoss: 0.255902\n",
      "Train Epoch: 11 [51200/60000 (85%)] lr: 9.090909090909092e-05\tLoss: 0.216855\n",
      "Train Epoch: 11 [53760/60000 (89%)] lr: 9.090909090909092e-05\tLoss: 0.138297\n",
      "Train Epoch: 11 [56320/60000 (94%)] lr: 9.090909090909092e-05\tLoss: 0.193821\n",
      "Train Epoch: 11 [58880/60000 (98%)] lr: 9.090909090909092e-05\tLoss: 0.172362\n",
      "Finish 11 epoch(s). Epoch loss: 0.2039191632511768.\n",
      "Train Epoch: 12 [0/60000 (0%)] lr: 8.333333333333333e-05\tLoss: 0.215481\n",
      "Train Epoch: 12 [2560/60000 (4%)] lr: 8.333333333333333e-05\tLoss: 0.263855\n",
      "Train Epoch: 12 [5120/60000 (9%)] lr: 8.333333333333333e-05\tLoss: 0.263328\n",
      "Train Epoch: 12 [7680/60000 (13%)] lr: 8.333333333333333e-05\tLoss: 0.206870\n",
      "Train Epoch: 12 [10240/60000 (17%)] lr: 8.333333333333333e-05\tLoss: 0.249594\n",
      "Train Epoch: 12 [12800/60000 (21%)] lr: 8.333333333333333e-05\tLoss: 0.203467\n",
      "Train Epoch: 12 [15360/60000 (26%)] lr: 8.333333333333333e-05\tLoss: 0.271388\n",
      "Train Epoch: 12 [17920/60000 (30%)] lr: 8.333333333333333e-05\tLoss: 0.164930\n",
      "Train Epoch: 12 [20480/60000 (34%)] lr: 8.333333333333333e-05\tLoss: 0.177126\n",
      "Train Epoch: 12 [23040/60000 (38%)] lr: 8.333333333333333e-05\tLoss: 0.205102\n",
      "Train Epoch: 12 [25600/60000 (43%)] lr: 8.333333333333333e-05\tLoss: 0.230879\n",
      "Train Epoch: 12 [28160/60000 (47%)] lr: 8.333333333333333e-05\tLoss: 0.201809\n",
      "Train Epoch: 12 [30720/60000 (51%)] lr: 8.333333333333333e-05\tLoss: 0.144511\n",
      "Train Epoch: 12 [33280/60000 (55%)] lr: 8.333333333333333e-05\tLoss: 0.167736\n",
      "Train Epoch: 12 [35840/60000 (60%)] lr: 8.333333333333333e-05\tLoss: 0.191581\n",
      "Train Epoch: 12 [38400/60000 (64%)] lr: 8.333333333333333e-05\tLoss: 0.190017\n",
      "Train Epoch: 12 [40960/60000 (68%)] lr: 8.333333333333333e-05\tLoss: 0.158463\n",
      "Train Epoch: 12 [43520/60000 (72%)] lr: 8.333333333333333e-05\tLoss: 0.176293\n",
      "Train Epoch: 12 [46080/60000 (77%)] lr: 8.333333333333333e-05\tLoss: 0.252629\n",
      "Train Epoch: 12 [48640/60000 (81%)] lr: 8.333333333333333e-05\tLoss: 0.181536\n",
      "Train Epoch: 12 [51200/60000 (85%)] lr: 8.333333333333333e-05\tLoss: 0.244770\n",
      "Train Epoch: 12 [53760/60000 (89%)] lr: 8.333333333333333e-05\tLoss: 0.153862\n",
      "Train Epoch: 12 [56320/60000 (94%)] lr: 8.333333333333333e-05\tLoss: 0.215700\n",
      "Train Epoch: 12 [58880/60000 (98%)] lr: 8.333333333333333e-05\tLoss: 0.212383\n",
      "Finish 12 epoch(s). Epoch loss: 0.19787012474968077.\n",
      "Train Epoch: 13 [0/60000 (0%)] lr: 7.692307692307693e-05\tLoss: 0.223300\n",
      "Train Epoch: 13 [2560/60000 (4%)] lr: 7.692307692307693e-05\tLoss: 0.138566\n",
      "Train Epoch: 13 [5120/60000 (9%)] lr: 7.692307692307693e-05\tLoss: 0.201501\n",
      "Train Epoch: 13 [7680/60000 (13%)] lr: 7.692307692307693e-05\tLoss: 0.181275\n",
      "Train Epoch: 13 [10240/60000 (17%)] lr: 7.692307692307693e-05\tLoss: 0.257265\n",
      "Train Epoch: 13 [12800/60000 (21%)] lr: 7.692307692307693e-05\tLoss: 0.197231\n",
      "Train Epoch: 13 [15360/60000 (26%)] lr: 7.692307692307693e-05\tLoss: 0.251584\n",
      "Train Epoch: 13 [17920/60000 (30%)] lr: 7.692307692307693e-05\tLoss: 0.216315\n",
      "Train Epoch: 13 [20480/60000 (34%)] lr: 7.692307692307693e-05\tLoss: 0.122405\n",
      "Train Epoch: 13 [23040/60000 (38%)] lr: 7.692307692307693e-05\tLoss: 0.175926\n",
      "Train Epoch: 13 [25600/60000 (43%)] lr: 7.692307692307693e-05\tLoss: 0.155028\n",
      "Train Epoch: 13 [28160/60000 (47%)] lr: 7.692307692307693e-05\tLoss: 0.317301\n",
      "Train Epoch: 13 [30720/60000 (51%)] lr: 7.692307692307693e-05\tLoss: 0.184139\n",
      "Train Epoch: 13 [33280/60000 (55%)] lr: 7.692307692307693e-05\tLoss: 0.232992\n",
      "Train Epoch: 13 [35840/60000 (60%)] lr: 7.692307692307693e-05\tLoss: 0.167395\n",
      "Train Epoch: 13 [38400/60000 (64%)] lr: 7.692307692307693e-05\tLoss: 0.230146\n",
      "Train Epoch: 13 [40960/60000 (68%)] lr: 7.692307692307693e-05\tLoss: 0.264717\n",
      "Train Epoch: 13 [43520/60000 (72%)] lr: 7.692307692307693e-05\tLoss: 0.155703\n",
      "Train Epoch: 13 [46080/60000 (77%)] lr: 7.692307692307693e-05\tLoss: 0.220097\n",
      "Train Epoch: 13 [48640/60000 (81%)] lr: 7.692307692307693e-05\tLoss: 0.206117\n",
      "Train Epoch: 13 [51200/60000 (85%)] lr: 7.692307692307693e-05\tLoss: 0.143860\n",
      "Train Epoch: 13 [53760/60000 (89%)] lr: 7.692307692307693e-05\tLoss: 0.191353\n",
      "Train Epoch: 13 [56320/60000 (94%)] lr: 7.692307692307693e-05\tLoss: 0.142302\n",
      "Train Epoch: 13 [58880/60000 (98%)] lr: 7.692307692307693e-05\tLoss: 0.204229\n",
      "Finish 13 epoch(s). Epoch loss: 0.1946940061893869.\n",
      "Train Epoch: 14 [0/60000 (0%)] lr: 7.142857142857143e-05\tLoss: 0.280449\n",
      "Train Epoch: 14 [2560/60000 (4%)] lr: 7.142857142857143e-05\tLoss: 0.186809\n",
      "Train Epoch: 14 [5120/60000 (9%)] lr: 7.142857142857143e-05\tLoss: 0.179114\n",
      "Train Epoch: 14 [7680/60000 (13%)] lr: 7.142857142857143e-05\tLoss: 0.219893\n",
      "Train Epoch: 14 [10240/60000 (17%)] lr: 7.142857142857143e-05\tLoss: 0.176808\n",
      "Train Epoch: 14 [12800/60000 (21%)] lr: 7.142857142857143e-05\tLoss: 0.249162\n",
      "Train Epoch: 14 [15360/60000 (26%)] lr: 7.142857142857143e-05\tLoss: 0.144442\n",
      "Train Epoch: 14 [17920/60000 (30%)] lr: 7.142857142857143e-05\tLoss: 0.178182\n",
      "Train Epoch: 14 [20480/60000 (34%)] lr: 7.142857142857143e-05\tLoss: 0.231123\n",
      "Train Epoch: 14 [23040/60000 (38%)] lr: 7.142857142857143e-05\tLoss: 0.178388\n",
      "Train Epoch: 14 [25600/60000 (43%)] lr: 7.142857142857143e-05\tLoss: 0.149516\n",
      "Train Epoch: 14 [28160/60000 (47%)] lr: 7.142857142857143e-05\tLoss: 0.160435\n",
      "Train Epoch: 14 [30720/60000 (51%)] lr: 7.142857142857143e-05\tLoss: 0.169721\n",
      "Train Epoch: 14 [33280/60000 (55%)] lr: 7.142857142857143e-05\tLoss: 0.193068\n",
      "Train Epoch: 14 [35840/60000 (60%)] lr: 7.142857142857143e-05\tLoss: 0.230123\n",
      "Train Epoch: 14 [38400/60000 (64%)] lr: 7.142857142857143e-05\tLoss: 0.208314\n",
      "Train Epoch: 14 [40960/60000 (68%)] lr: 7.142857142857143e-05\tLoss: 0.181065\n",
      "Train Epoch: 14 [43520/60000 (72%)] lr: 7.142857142857143e-05\tLoss: 0.185342\n",
      "Train Epoch: 14 [46080/60000 (77%)] lr: 7.142857142857143e-05\tLoss: 0.196934\n",
      "Train Epoch: 14 [48640/60000 (81%)] lr: 7.142857142857143e-05\tLoss: 0.163592\n",
      "Train Epoch: 14 [51200/60000 (85%)] lr: 7.142857142857143e-05\tLoss: 0.177710\n",
      "Train Epoch: 14 [53760/60000 (89%)] lr: 7.142857142857143e-05\tLoss: 0.163880\n",
      "Train Epoch: 14 [56320/60000 (94%)] lr: 7.142857142857143e-05\tLoss: 0.149617\n",
      "Train Epoch: 14 [58880/60000 (98%)] lr: 7.142857142857143e-05\tLoss: 0.258374\n",
      "Finish 14 epoch(s). Epoch loss: 0.19390360304015747.\n",
      "Train Epoch: 15 [0/60000 (0%)] lr: 6.666666666666667e-05\tLoss: 0.181486\n",
      "Train Epoch: 15 [2560/60000 (4%)] lr: 6.666666666666667e-05\tLoss: 0.119889\n",
      "Train Epoch: 15 [5120/60000 (9%)] lr: 6.666666666666667e-05\tLoss: 0.203827\n",
      "Train Epoch: 15 [7680/60000 (13%)] lr: 6.666666666666667e-05\tLoss: 0.186614\n",
      "Train Epoch: 15 [10240/60000 (17%)] lr: 6.666666666666667e-05\tLoss: 0.158444\n",
      "Train Epoch: 15 [12800/60000 (21%)] lr: 6.666666666666667e-05\tLoss: 0.133155\n",
      "Train Epoch: 15 [15360/60000 (26%)] lr: 6.666666666666667e-05\tLoss: 0.247837\n"
     ]
    },
    {
     "name": "stdout",
     "output_type": "stream",
     "text": [
      "Train Epoch: 15 [17920/60000 (30%)] lr: 6.666666666666667e-05\tLoss: 0.338026\n",
      "Train Epoch: 15 [20480/60000 (34%)] lr: 6.666666666666667e-05\tLoss: 0.198193\n",
      "Train Epoch: 15 [23040/60000 (38%)] lr: 6.666666666666667e-05\tLoss: 0.121383\n",
      "Train Epoch: 15 [25600/60000 (43%)] lr: 6.666666666666667e-05\tLoss: 0.167399\n",
      "Train Epoch: 15 [28160/60000 (47%)] lr: 6.666666666666667e-05\tLoss: 0.183224\n",
      "Train Epoch: 15 [30720/60000 (51%)] lr: 6.666666666666667e-05\tLoss: 0.140827\n",
      "Train Epoch: 15 [33280/60000 (55%)] lr: 6.666666666666667e-05\tLoss: 0.209284\n",
      "Train Epoch: 15 [35840/60000 (60%)] lr: 6.666666666666667e-05\tLoss: 0.224526\n",
      "Train Epoch: 15 [38400/60000 (64%)] lr: 6.666666666666667e-05\tLoss: 0.198621\n",
      "Train Epoch: 15 [40960/60000 (68%)] lr: 6.666666666666667e-05\tLoss: 0.215587\n",
      "Train Epoch: 15 [43520/60000 (72%)] lr: 6.666666666666667e-05\tLoss: 0.200792\n",
      "Train Epoch: 15 [46080/60000 (77%)] lr: 6.666666666666667e-05\tLoss: 0.216516\n",
      "Train Epoch: 15 [48640/60000 (81%)] lr: 6.666666666666667e-05\tLoss: 0.249833\n",
      "Train Epoch: 15 [51200/60000 (85%)] lr: 6.666666666666667e-05\tLoss: 0.184483\n",
      "Train Epoch: 15 [53760/60000 (89%)] lr: 6.666666666666667e-05\tLoss: 0.154505\n",
      "Train Epoch: 15 [56320/60000 (94%)] lr: 6.666666666666667e-05\tLoss: 0.164967\n",
      "Train Epoch: 15 [58880/60000 (98%)] lr: 6.666666666666667e-05\tLoss: 0.261748\n",
      "Finish 15 epoch(s). Epoch loss: 0.19082842821136434.\n",
      "Train Epoch: 16 [0/60000 (0%)] lr: 6.25e-05\tLoss: 0.220145\n",
      "Train Epoch: 16 [2560/60000 (4%)] lr: 6.25e-05\tLoss: 0.166618\n",
      "Train Epoch: 16 [5120/60000 (9%)] lr: 6.25e-05\tLoss: 0.160964\n",
      "Train Epoch: 16 [7680/60000 (13%)] lr: 6.25e-05\tLoss: 0.155028\n",
      "Train Epoch: 16 [10240/60000 (17%)] lr: 6.25e-05\tLoss: 0.162692\n",
      "Train Epoch: 16 [12800/60000 (21%)] lr: 6.25e-05\tLoss: 0.217187\n",
      "Train Epoch: 16 [15360/60000 (26%)] lr: 6.25e-05\tLoss: 0.108827\n",
      "Train Epoch: 16 [17920/60000 (30%)] lr: 6.25e-05\tLoss: 0.239887\n",
      "Train Epoch: 16 [20480/60000 (34%)] lr: 6.25e-05\tLoss: 0.174236\n",
      "Train Epoch: 16 [23040/60000 (38%)] lr: 6.25e-05\tLoss: 0.167974\n",
      "Train Epoch: 16 [25600/60000 (43%)] lr: 6.25e-05\tLoss: 0.204182\n",
      "Train Epoch: 16 [28160/60000 (47%)] lr: 6.25e-05\tLoss: 0.199147\n",
      "Train Epoch: 16 [30720/60000 (51%)] lr: 6.25e-05\tLoss: 0.176333\n",
      "Train Epoch: 16 [33280/60000 (55%)] lr: 6.25e-05\tLoss: 0.207629\n",
      "Train Epoch: 16 [35840/60000 (60%)] lr: 6.25e-05\tLoss: 0.201167\n",
      "Train Epoch: 16 [38400/60000 (64%)] lr: 6.25e-05\tLoss: 0.181786\n",
      "Train Epoch: 16 [40960/60000 (68%)] lr: 6.25e-05\tLoss: 0.167616\n",
      "Train Epoch: 16 [43520/60000 (72%)] lr: 6.25e-05\tLoss: 0.175017\n",
      "Train Epoch: 16 [46080/60000 (77%)] lr: 6.25e-05\tLoss: 0.231863\n",
      "Train Epoch: 16 [48640/60000 (81%)] lr: 6.25e-05\tLoss: 0.176972\n",
      "Train Epoch: 16 [51200/60000 (85%)] lr: 6.25e-05\tLoss: 0.227853\n",
      "Train Epoch: 16 [53760/60000 (89%)] lr: 6.25e-05\tLoss: 0.178002\n",
      "Train Epoch: 16 [56320/60000 (94%)] lr: 6.25e-05\tLoss: 0.244718\n",
      "Train Epoch: 16 [58880/60000 (98%)] lr: 6.25e-05\tLoss: 0.216454\n",
      "Finish 16 epoch(s). Epoch loss: 0.19150646848881497.\n",
      "Train Epoch: 17 [0/60000 (0%)] lr: 5.882352941176471e-05\tLoss: 0.230393\n",
      "Train Epoch: 17 [2560/60000 (4%)] lr: 5.882352941176471e-05\tLoss: 0.283039\n",
      "Train Epoch: 17 [5120/60000 (9%)] lr: 5.882352941176471e-05\tLoss: 0.234634\n",
      "Train Epoch: 17 [7680/60000 (13%)] lr: 5.882352941176471e-05\tLoss: 0.173295\n",
      "Train Epoch: 17 [10240/60000 (17%)] lr: 5.882352941176471e-05\tLoss: 0.190425\n",
      "Train Epoch: 17 [12800/60000 (21%)] lr: 5.882352941176471e-05\tLoss: 0.191049\n",
      "Train Epoch: 17 [15360/60000 (26%)] lr: 5.882352941176471e-05\tLoss: 0.123814\n",
      "Train Epoch: 17 [17920/60000 (30%)] lr: 5.882352941176471e-05\tLoss: 0.198154\n",
      "Train Epoch: 17 [20480/60000 (34%)] lr: 5.882352941176471e-05\tLoss: 0.214768\n",
      "Train Epoch: 17 [23040/60000 (38%)] lr: 5.882352941176471e-05\tLoss: 0.172745\n",
      "Train Epoch: 17 [25600/60000 (43%)] lr: 5.882352941176471e-05\tLoss: 0.126313\n",
      "Train Epoch: 17 [28160/60000 (47%)] lr: 5.882352941176471e-05\tLoss: 0.188616\n",
      "Train Epoch: 17 [30720/60000 (51%)] lr: 5.882352941176471e-05\tLoss: 0.194703\n",
      "Train Epoch: 17 [33280/60000 (55%)] lr: 5.882352941176471e-05\tLoss: 0.173984\n",
      "Train Epoch: 17 [35840/60000 (60%)] lr: 5.882352941176471e-05\tLoss: 0.177651\n",
      "Train Epoch: 17 [38400/60000 (64%)] lr: 5.882352941176471e-05\tLoss: 0.145360\n",
      "Train Epoch: 17 [40960/60000 (68%)] lr: 5.882352941176471e-05\tLoss: 0.116678\n",
      "Train Epoch: 17 [43520/60000 (72%)] lr: 5.882352941176471e-05\tLoss: 0.137994\n",
      "Train Epoch: 17 [46080/60000 (77%)] lr: 5.882352941176471e-05\tLoss: 0.184659\n",
      "Train Epoch: 17 [48640/60000 (81%)] lr: 5.882352941176471e-05\tLoss: 0.182860\n",
      "Train Epoch: 17 [51200/60000 (85%)] lr: 5.882352941176471e-05\tLoss: 0.208294\n",
      "Train Epoch: 17 [53760/60000 (89%)] lr: 5.882352941176471e-05\tLoss: 0.211036\n",
      "Train Epoch: 17 [56320/60000 (94%)] lr: 5.882352941176471e-05\tLoss: 0.178460\n",
      "Train Epoch: 17 [58880/60000 (98%)] lr: 5.882352941176471e-05\tLoss: 0.303459\n",
      "Finish 17 epoch(s). Epoch loss: 0.18889725842374436.\n",
      "Train Epoch: 18 [0/60000 (0%)] lr: 5.555555555555556e-05\tLoss: 0.184075\n",
      "Train Epoch: 18 [2560/60000 (4%)] lr: 5.555555555555556e-05\tLoss: 0.133129\n",
      "Train Epoch: 18 [5120/60000 (9%)] lr: 5.555555555555556e-05\tLoss: 0.092691\n",
      "Train Epoch: 18 [7680/60000 (13%)] lr: 5.555555555555556e-05\tLoss: 0.161446\n",
      "Train Epoch: 18 [10240/60000 (17%)] lr: 5.555555555555556e-05\tLoss: 0.241988\n",
      "Train Epoch: 18 [12800/60000 (21%)] lr: 5.555555555555556e-05\tLoss: 0.278448\n",
      "Train Epoch: 18 [15360/60000 (26%)] lr: 5.555555555555556e-05\tLoss: 0.122299\n",
      "Train Epoch: 18 [17920/60000 (30%)] lr: 5.555555555555556e-05\tLoss: 0.195777\n",
      "Train Epoch: 18 [20480/60000 (34%)] lr: 5.555555555555556e-05\tLoss: 0.142655\n",
      "Train Epoch: 18 [23040/60000 (38%)] lr: 5.555555555555556e-05\tLoss: 0.213686\n",
      "Train Epoch: 18 [25600/60000 (43%)] lr: 5.555555555555556e-05\tLoss: 0.193177\n",
      "Train Epoch: 18 [28160/60000 (47%)] lr: 5.555555555555556e-05\tLoss: 0.254542\n",
      "Train Epoch: 18 [30720/60000 (51%)] lr: 5.555555555555556e-05\tLoss: 0.223081\n",
      "Train Epoch: 18 [33280/60000 (55%)] lr: 5.555555555555556e-05\tLoss: 0.176402\n",
      "Train Epoch: 18 [35840/60000 (60%)] lr: 5.555555555555556e-05\tLoss: 0.206945\n",
      "Train Epoch: 18 [38400/60000 (64%)] lr: 5.555555555555556e-05\tLoss: 0.194433\n",
      "Train Epoch: 18 [40960/60000 (68%)] lr: 5.555555555555556e-05\tLoss: 0.177652\n",
      "Train Epoch: 18 [43520/60000 (72%)] lr: 5.555555555555556e-05\tLoss: 0.247260\n",
      "Train Epoch: 18 [46080/60000 (77%)] lr: 5.555555555555556e-05\tLoss: 0.221882\n",
      "Train Epoch: 18 [48640/60000 (81%)] lr: 5.555555555555556e-05\tLoss: 0.211764\n",
      "Train Epoch: 18 [51200/60000 (85%)] lr: 5.555555555555556e-05\tLoss: 0.120110\n",
      "Train Epoch: 18 [53760/60000 (89%)] lr: 5.555555555555556e-05\tLoss: 0.171559\n",
      "Train Epoch: 18 [56320/60000 (94%)] lr: 5.555555555555556e-05\tLoss: 0.293481\n",
      "Train Epoch: 18 [58880/60000 (98%)] lr: 5.555555555555556e-05\tLoss: 0.196779\n",
      "Finish 18 epoch(s). Epoch loss: 0.1830844966655082.\n",
      "Train Epoch: 19 [0/60000 (0%)] lr: 5.2631578947368424e-05\tLoss: 0.153128\n",
      "Train Epoch: 19 [2560/60000 (4%)] lr: 5.2631578947368424e-05\tLoss: 0.166806\n",
      "Train Epoch: 19 [5120/60000 (9%)] lr: 5.2631578947368424e-05\tLoss: 0.161649\n",
      "Train Epoch: 19 [7680/60000 (13%)] lr: 5.2631578947368424e-05\tLoss: 0.193157\n",
      "Train Epoch: 19 [10240/60000 (17%)] lr: 5.2631578947368424e-05\tLoss: 0.162191\n",
      "Train Epoch: 19 [12800/60000 (21%)] lr: 5.2631578947368424e-05\tLoss: 0.247750\n",
      "Train Epoch: 19 [15360/60000 (26%)] lr: 5.2631578947368424e-05\tLoss: 0.162890\n",
      "Train Epoch: 19 [17920/60000 (30%)] lr: 5.2631578947368424e-05\tLoss: 0.208893\n",
      "Train Epoch: 19 [20480/60000 (34%)] lr: 5.2631578947368424e-05\tLoss: 0.203607\n",
      "Train Epoch: 19 [23040/60000 (38%)] lr: 5.2631578947368424e-05\tLoss: 0.161403\n",
      "Train Epoch: 19 [25600/60000 (43%)] lr: 5.2631578947368424e-05\tLoss: 0.171066\n",
      "Train Epoch: 19 [28160/60000 (47%)] lr: 5.2631578947368424e-05\tLoss: 0.210448\n",
      "Train Epoch: 19 [30720/60000 (51%)] lr: 5.2631578947368424e-05\tLoss: 0.233193\n",
      "Train Epoch: 19 [33280/60000 (55%)] lr: 5.2631578947368424e-05\tLoss: 0.168585\n",
      "Train Epoch: 19 [35840/60000 (60%)] lr: 5.2631578947368424e-05\tLoss: 0.170184\n",
      "Train Epoch: 19 [38400/60000 (64%)] lr: 5.2631578947368424e-05\tLoss: 0.187375\n",
      "Train Epoch: 19 [40960/60000 (68%)] lr: 5.2631578947368424e-05\tLoss: 0.188312\n",
      "Train Epoch: 19 [43520/60000 (72%)] lr: 5.2631578947368424e-05\tLoss: 0.191020\n",
      "Train Epoch: 19 [46080/60000 (77%)] lr: 5.2631578947368424e-05\tLoss: 0.160421\n"
     ]
    },
    {
     "name": "stdout",
     "output_type": "stream",
     "text": [
      "Train Epoch: 19 [48640/60000 (81%)] lr: 5.2631578947368424e-05\tLoss: 0.196090\n",
      "Train Epoch: 19 [51200/60000 (85%)] lr: 5.2631578947368424e-05\tLoss: 0.213981\n",
      "Train Epoch: 19 [53760/60000 (89%)] lr: 5.2631578947368424e-05\tLoss: 0.158784\n",
      "Train Epoch: 19 [56320/60000 (94%)] lr: 5.2631578947368424e-05\tLoss: 0.178450\n",
      "Train Epoch: 19 [58880/60000 (98%)] lr: 5.2631578947368424e-05\tLoss: 0.153114\n",
      "Finish 19 epoch(s). Epoch loss: 0.18511049508097324.\n",
      "Train Epoch: 20 [0/60000 (0%)] lr: 5e-05\tLoss: 0.179278\n",
      "Train Epoch: 20 [2560/60000 (4%)] lr: 5e-05\tLoss: 0.200871\n",
      "Train Epoch: 20 [5120/60000 (9%)] lr: 5e-05\tLoss: 0.219607\n",
      "Train Epoch: 20 [7680/60000 (13%)] lr: 5e-05\tLoss: 0.186818\n",
      "Train Epoch: 20 [10240/60000 (17%)] lr: 5e-05\tLoss: 0.135192\n",
      "Train Epoch: 20 [12800/60000 (21%)] lr: 5e-05\tLoss: 0.173811\n",
      "Train Epoch: 20 [15360/60000 (26%)] lr: 5e-05\tLoss: 0.163904\n",
      "Train Epoch: 20 [17920/60000 (30%)] lr: 5e-05\tLoss: 0.157755\n",
      "Train Epoch: 20 [20480/60000 (34%)] lr: 5e-05\tLoss: 0.205510\n",
      "Train Epoch: 20 [23040/60000 (38%)] lr: 5e-05\tLoss: 0.101481\n",
      "Train Epoch: 20 [25600/60000 (43%)] lr: 5e-05\tLoss: 0.215037\n",
      "Train Epoch: 20 [28160/60000 (47%)] lr: 5e-05\tLoss: 0.164672\n",
      "Train Epoch: 20 [30720/60000 (51%)] lr: 5e-05\tLoss: 0.201822\n",
      "Train Epoch: 20 [33280/60000 (55%)] lr: 5e-05\tLoss: 0.105518\n",
      "Train Epoch: 20 [35840/60000 (60%)] lr: 5e-05\tLoss: 0.174676\n",
      "Train Epoch: 20 [38400/60000 (64%)] lr: 5e-05\tLoss: 0.202549\n",
      "Train Epoch: 20 [40960/60000 (68%)] lr: 5e-05\tLoss: 0.222093\n",
      "Train Epoch: 20 [43520/60000 (72%)] lr: 5e-05\tLoss: 0.197584\n",
      "Train Epoch: 20 [46080/60000 (77%)] lr: 5e-05\tLoss: 0.229558\n",
      "Train Epoch: 20 [48640/60000 (81%)] lr: 5e-05\tLoss: 0.167304\n",
      "Train Epoch: 20 [51200/60000 (85%)] lr: 5e-05\tLoss: 0.131137\n",
      "Train Epoch: 20 [53760/60000 (89%)] lr: 5e-05\tLoss: 0.141784\n",
      "Train Epoch: 20 [56320/60000 (94%)] lr: 5e-05\tLoss: 0.183752\n",
      "Train Epoch: 20 [58880/60000 (98%)] lr: 5e-05\tLoss: 0.187134\n",
      "Finish 20 epoch(s). Epoch loss: 0.18464804596089301.\n",
      "Train Epoch: 21 [0/60000 (0%)] lr: 4.761904761904762e-05\tLoss: 0.176618\n",
      "Train Epoch: 21 [2560/60000 (4%)] lr: 4.761904761904762e-05\tLoss: 0.200434\n",
      "Train Epoch: 21 [5120/60000 (9%)] lr: 4.761904761904762e-05\tLoss: 0.255012\n",
      "Train Epoch: 21 [7680/60000 (13%)] lr: 4.761904761904762e-05\tLoss: 0.180655\n",
      "Train Epoch: 21 [10240/60000 (17%)] lr: 4.761904761904762e-05\tLoss: 0.170560\n",
      "Train Epoch: 21 [12800/60000 (21%)] lr: 4.761904761904762e-05\tLoss: 0.186574\n",
      "Train Epoch: 21 [15360/60000 (26%)] lr: 4.761904761904762e-05\tLoss: 0.196826\n",
      "Train Epoch: 21 [17920/60000 (30%)] lr: 4.761904761904762e-05\tLoss: 0.134201\n",
      "Train Epoch: 21 [20480/60000 (34%)] lr: 4.761904761904762e-05\tLoss: 0.219976\n",
      "Train Epoch: 21 [23040/60000 (38%)] lr: 4.761904761904762e-05\tLoss: 0.131074\n",
      "Train Epoch: 21 [25600/60000 (43%)] lr: 4.761904761904762e-05\tLoss: 0.181905\n",
      "Train Epoch: 21 [28160/60000 (47%)] lr: 4.761904761904762e-05\tLoss: 0.170817\n",
      "Train Epoch: 21 [30720/60000 (51%)] lr: 4.761904761904762e-05\tLoss: 0.139409\n",
      "Train Epoch: 21 [33280/60000 (55%)] lr: 4.761904761904762e-05\tLoss: 0.250134\n",
      "Train Epoch: 21 [35840/60000 (60%)] lr: 4.761904761904762e-05\tLoss: 0.136469\n",
      "Train Epoch: 21 [38400/60000 (64%)] lr: 4.761904761904762e-05\tLoss: 0.248525\n",
      "Train Epoch: 21 [40960/60000 (68%)] lr: 4.761904761904762e-05\tLoss: 0.152124\n",
      "Train Epoch: 21 [43520/60000 (72%)] lr: 4.761904761904762e-05\tLoss: 0.177987\n",
      "Train Epoch: 21 [46080/60000 (77%)] lr: 4.761904761904762e-05\tLoss: 0.200555\n",
      "Train Epoch: 21 [48640/60000 (81%)] lr: 4.761904761904762e-05\tLoss: 0.160822\n",
      "Train Epoch: 21 [51200/60000 (85%)] lr: 4.761904761904762e-05\tLoss: 0.147059\n",
      "Train Epoch: 21 [53760/60000 (89%)] lr: 4.761904761904762e-05\tLoss: 0.221488\n",
      "Train Epoch: 21 [56320/60000 (94%)] lr: 4.761904761904762e-05\tLoss: 0.202666\n",
      "Train Epoch: 21 [58880/60000 (98%)] lr: 4.761904761904762e-05\tLoss: 0.161050\n",
      "Finish 21 epoch(s). Epoch loss: 0.1812884822487831.\n",
      "Train Epoch: 22 [0/60000 (0%)] lr: 4.545454545454546e-05\tLoss: 0.187683\n",
      "Train Epoch: 22 [2560/60000 (4%)] lr: 4.545454545454546e-05\tLoss: 0.153749\n",
      "Train Epoch: 22 [5120/60000 (9%)] lr: 4.545454545454546e-05\tLoss: 0.232861\n",
      "Train Epoch: 22 [7680/60000 (13%)] lr: 4.545454545454546e-05\tLoss: 0.203644\n",
      "Train Epoch: 22 [10240/60000 (17%)] lr: 4.545454545454546e-05\tLoss: 0.266984\n",
      "Train Epoch: 22 [12800/60000 (21%)] lr: 4.545454545454546e-05\tLoss: 0.222018\n",
      "Train Epoch: 22 [15360/60000 (26%)] lr: 4.545454545454546e-05\tLoss: 0.191854\n",
      "Train Epoch: 22 [17920/60000 (30%)] lr: 4.545454545454546e-05\tLoss: 0.179607\n",
      "Train Epoch: 22 [20480/60000 (34%)] lr: 4.545454545454546e-05\tLoss: 0.170905\n",
      "Train Epoch: 22 [23040/60000 (38%)] lr: 4.545454545454546e-05\tLoss: 0.235786\n",
      "Train Epoch: 22 [25600/60000 (43%)] lr: 4.545454545454546e-05\tLoss: 0.141515\n",
      "Train Epoch: 22 [28160/60000 (47%)] lr: 4.545454545454546e-05\tLoss: 0.156186\n",
      "Train Epoch: 22 [30720/60000 (51%)] lr: 4.545454545454546e-05\tLoss: 0.142408\n",
      "Train Epoch: 22 [33280/60000 (55%)] lr: 4.545454545454546e-05\tLoss: 0.255014\n",
      "Train Epoch: 22 [35840/60000 (60%)] lr: 4.545454545454546e-05\tLoss: 0.157110\n",
      "Train Epoch: 22 [38400/60000 (64%)] lr: 4.545454545454546e-05\tLoss: 0.164317\n",
      "Train Epoch: 22 [40960/60000 (68%)] lr: 4.545454545454546e-05\tLoss: 0.213134\n",
      "Train Epoch: 22 [43520/60000 (72%)] lr: 4.545454545454546e-05\tLoss: 0.196100\n",
      "Train Epoch: 22 [46080/60000 (77%)] lr: 4.545454545454546e-05\tLoss: 0.086204\n",
      "Train Epoch: 22 [48640/60000 (81%)] lr: 4.545454545454546e-05\tLoss: 0.194104\n",
      "Train Epoch: 22 [51200/60000 (85%)] lr: 4.545454545454546e-05\tLoss: 0.262943\n",
      "Train Epoch: 22 [53760/60000 (89%)] lr: 4.545454545454546e-05\tLoss: 0.177139\n",
      "Train Epoch: 22 [56320/60000 (94%)] lr: 4.545454545454546e-05\tLoss: 0.159325\n",
      "Train Epoch: 22 [58880/60000 (98%)] lr: 4.545454545454546e-05\tLoss: 0.267592\n",
      "Finish 22 epoch(s). Epoch loss: 0.1806941457885377.\n",
      "Train Epoch: 23 [0/60000 (0%)] lr: 4.347826086956522e-05\tLoss: 0.184244\n",
      "Train Epoch: 23 [2560/60000 (4%)] lr: 4.347826086956522e-05\tLoss: 0.141884\n",
      "Train Epoch: 23 [5120/60000 (9%)] lr: 4.347826086956522e-05\tLoss: 0.157120\n",
      "Train Epoch: 23 [7680/60000 (13%)] lr: 4.347826086956522e-05\tLoss: 0.180856\n",
      "Train Epoch: 23 [10240/60000 (17%)] lr: 4.347826086956522e-05\tLoss: 0.154696\n",
      "Train Epoch: 23 [12800/60000 (21%)] lr: 4.347826086956522e-05\tLoss: 0.179882\n",
      "Train Epoch: 23 [15360/60000 (26%)] lr: 4.347826086956522e-05\tLoss: 0.244668\n",
      "Train Epoch: 23 [17920/60000 (30%)] lr: 4.347826086956522e-05\tLoss: 0.261049\n",
      "Train Epoch: 23 [20480/60000 (34%)] lr: 4.347826086956522e-05\tLoss: 0.201969\n",
      "Train Epoch: 23 [23040/60000 (38%)] lr: 4.347826086956522e-05\tLoss: 0.175075\n",
      "Train Epoch: 23 [25600/60000 (43%)] lr: 4.347826086956522e-05\tLoss: 0.225204\n",
      "Train Epoch: 23 [28160/60000 (47%)] lr: 4.347826086956522e-05\tLoss: 0.146386\n",
      "Train Epoch: 23 [30720/60000 (51%)] lr: 4.347826086956522e-05\tLoss: 0.198094\n",
      "Train Epoch: 23 [33280/60000 (55%)] lr: 4.347826086956522e-05\tLoss: 0.174846\n",
      "Train Epoch: 23 [35840/60000 (60%)] lr: 4.347826086956522e-05\tLoss: 0.214750\n",
      "Train Epoch: 23 [38400/60000 (64%)] lr: 4.347826086956522e-05\tLoss: 0.202562\n",
      "Train Epoch: 23 [40960/60000 (68%)] lr: 4.347826086956522e-05\tLoss: 0.165104\n",
      "Train Epoch: 23 [43520/60000 (72%)] lr: 4.347826086956522e-05\tLoss: 0.128969\n",
      "Train Epoch: 23 [46080/60000 (77%)] lr: 4.347826086956522e-05\tLoss: 0.126671\n",
      "Train Epoch: 23 [48640/60000 (81%)] lr: 4.347826086956522e-05\tLoss: 0.223698\n",
      "Train Epoch: 23 [51200/60000 (85%)] lr: 4.347826086956522e-05\tLoss: 0.181718\n",
      "Train Epoch: 23 [53760/60000 (89%)] lr: 4.347826086956522e-05\tLoss: 0.100390\n",
      "Train Epoch: 23 [56320/60000 (94%)] lr: 4.347826086956522e-05\tLoss: 0.155675\n",
      "Train Epoch: 23 [58880/60000 (98%)] lr: 4.347826086956522e-05\tLoss: 0.124915\n",
      "Finish 23 epoch(s). Epoch loss: 0.18038067332607635.\n",
      "Train Epoch: 24 [0/60000 (0%)] lr: 4.1666666666666665e-05\tLoss: 0.130383\n",
      "Train Epoch: 24 [2560/60000 (4%)] lr: 4.1666666666666665e-05\tLoss: 0.197411\n",
      "Train Epoch: 24 [5120/60000 (9%)] lr: 4.1666666666666665e-05\tLoss: 0.188172\n",
      "Train Epoch: 24 [7680/60000 (13%)] lr: 4.1666666666666665e-05\tLoss: 0.193871\n",
      "Train Epoch: 24 [10240/60000 (17%)] lr: 4.1666666666666665e-05\tLoss: 0.201840\n",
      "Train Epoch: 24 [12800/60000 (21%)] lr: 4.1666666666666665e-05\tLoss: 0.176870\n",
      "Train Epoch: 24 [15360/60000 (26%)] lr: 4.1666666666666665e-05\tLoss: 0.186149\n",
      "Train Epoch: 24 [17920/60000 (30%)] lr: 4.1666666666666665e-05\tLoss: 0.143178\n"
     ]
    },
    {
     "name": "stdout",
     "output_type": "stream",
     "text": [
      "Train Epoch: 24 [20480/60000 (34%)] lr: 4.1666666666666665e-05\tLoss: 0.151677\n",
      "Train Epoch: 24 [23040/60000 (38%)] lr: 4.1666666666666665e-05\tLoss: 0.228906\n",
      "Train Epoch: 24 [25600/60000 (43%)] lr: 4.1666666666666665e-05\tLoss: 0.165809\n",
      "Train Epoch: 24 [28160/60000 (47%)] lr: 4.1666666666666665e-05\tLoss: 0.157648\n",
      "Train Epoch: 24 [30720/60000 (51%)] lr: 4.1666666666666665e-05\tLoss: 0.197640\n",
      "Train Epoch: 24 [33280/60000 (55%)] lr: 4.1666666666666665e-05\tLoss: 0.136793\n",
      "Train Epoch: 24 [35840/60000 (60%)] lr: 4.1666666666666665e-05\tLoss: 0.173520\n",
      "Train Epoch: 24 [38400/60000 (64%)] lr: 4.1666666666666665e-05\tLoss: 0.158094\n",
      "Train Epoch: 24 [40960/60000 (68%)] lr: 4.1666666666666665e-05\tLoss: 0.123228\n",
      "Train Epoch: 24 [43520/60000 (72%)] lr: 4.1666666666666665e-05\tLoss: 0.198353\n",
      "Train Epoch: 24 [46080/60000 (77%)] lr: 4.1666666666666665e-05\tLoss: 0.146456\n",
      "Train Epoch: 24 [48640/60000 (81%)] lr: 4.1666666666666665e-05\tLoss: 0.191842\n",
      "Train Epoch: 24 [51200/60000 (85%)] lr: 4.1666666666666665e-05\tLoss: 0.223452\n",
      "Train Epoch: 24 [53760/60000 (89%)] lr: 4.1666666666666665e-05\tLoss: 0.111052\n",
      "Train Epoch: 24 [56320/60000 (94%)] lr: 4.1666666666666665e-05\tLoss: 0.237440\n",
      "Train Epoch: 24 [58880/60000 (98%)] lr: 4.1666666666666665e-05\tLoss: 0.142520\n",
      "Finish 24 epoch(s). Epoch loss: 0.17896747018428558.\n",
      "Train Epoch: 25 [0/60000 (0%)] lr: 4e-05\tLoss: 0.254697\n",
      "Train Epoch: 25 [2560/60000 (4%)] lr: 4e-05\tLoss: 0.102371\n",
      "Train Epoch: 25 [5120/60000 (9%)] lr: 4e-05\tLoss: 0.082276\n",
      "Train Epoch: 25 [7680/60000 (13%)] lr: 4e-05\tLoss: 0.177126\n",
      "Train Epoch: 25 [10240/60000 (17%)] lr: 4e-05\tLoss: 0.169375\n",
      "Train Epoch: 25 [12800/60000 (21%)] lr: 4e-05\tLoss: 0.171028\n",
      "Train Epoch: 25 [15360/60000 (26%)] lr: 4e-05\tLoss: 0.212849\n",
      "Train Epoch: 25 [17920/60000 (30%)] lr: 4e-05\tLoss: 0.170651\n",
      "Train Epoch: 25 [20480/60000 (34%)] lr: 4e-05\tLoss: 0.236445\n",
      "Train Epoch: 25 [23040/60000 (38%)] lr: 4e-05\tLoss: 0.207932\n",
      "Train Epoch: 25 [25600/60000 (43%)] lr: 4e-05\tLoss: 0.143409\n",
      "Train Epoch: 25 [28160/60000 (47%)] lr: 4e-05\tLoss: 0.209579\n",
      "Train Epoch: 25 [30720/60000 (51%)] lr: 4e-05\tLoss: 0.198484\n",
      "Train Epoch: 25 [33280/60000 (55%)] lr: 4e-05\tLoss: 0.186932\n",
      "Train Epoch: 25 [35840/60000 (60%)] lr: 4e-05\tLoss: 0.225163\n",
      "Train Epoch: 25 [38400/60000 (64%)] lr: 4e-05\tLoss: 0.169835\n",
      "Train Epoch: 25 [40960/60000 (68%)] lr: 4e-05\tLoss: 0.144323\n",
      "Train Epoch: 25 [43520/60000 (72%)] lr: 4e-05\tLoss: 0.228721\n",
      "Train Epoch: 25 [46080/60000 (77%)] lr: 4e-05\tLoss: 0.142897\n",
      "Train Epoch: 25 [48640/60000 (81%)] lr: 4e-05\tLoss: 0.182538\n",
      "Train Epoch: 25 [51200/60000 (85%)] lr: 4e-05\tLoss: 0.195427\n",
      "Train Epoch: 25 [53760/60000 (89%)] lr: 4e-05\tLoss: 0.210275\n",
      "Train Epoch: 25 [56320/60000 (94%)] lr: 4e-05\tLoss: 0.166192\n",
      "Train Epoch: 25 [58880/60000 (98%)] lr: 4e-05\tLoss: 0.120263\n",
      "Finish 25 epoch(s). Epoch loss: 0.1796143650374514.\n",
      "Train Epoch: 26 [0/60000 (0%)] lr: 3.846153846153846e-05\tLoss: 0.150819\n",
      "Train Epoch: 26 [2560/60000 (4%)] lr: 3.846153846153846e-05\tLoss: 0.261886\n",
      "Train Epoch: 26 [5120/60000 (9%)] lr: 3.846153846153846e-05\tLoss: 0.190106\n",
      "Train Epoch: 26 [7680/60000 (13%)] lr: 3.846153846153846e-05\tLoss: 0.137113\n",
      "Train Epoch: 26 [10240/60000 (17%)] lr: 3.846153846153846e-05\tLoss: 0.155106\n",
      "Train Epoch: 26 [12800/60000 (21%)] lr: 3.846153846153846e-05\tLoss: 0.216744\n",
      "Train Epoch: 26 [15360/60000 (26%)] lr: 3.846153846153846e-05\tLoss: 0.173337\n",
      "Train Epoch: 26 [17920/60000 (30%)] lr: 3.846153846153846e-05\tLoss: 0.192770\n",
      "Train Epoch: 26 [20480/60000 (34%)] lr: 3.846153846153846e-05\tLoss: 0.179906\n",
      "Train Epoch: 26 [23040/60000 (38%)] lr: 3.846153846153846e-05\tLoss: 0.187606\n",
      "Train Epoch: 26 [25600/60000 (43%)] lr: 3.846153846153846e-05\tLoss: 0.124655\n",
      "Train Epoch: 26 [28160/60000 (47%)] lr: 3.846153846153846e-05\tLoss: 0.161468\n",
      "Train Epoch: 26 [30720/60000 (51%)] lr: 3.846153846153846e-05\tLoss: 0.167458\n",
      "Train Epoch: 26 [33280/60000 (55%)] lr: 3.846153846153846e-05\tLoss: 0.188960\n",
      "Train Epoch: 26 [35840/60000 (60%)] lr: 3.846153846153846e-05\tLoss: 0.110454\n",
      "Train Epoch: 26 [38400/60000 (64%)] lr: 3.846153846153846e-05\tLoss: 0.143385\n",
      "Train Epoch: 26 [40960/60000 (68%)] lr: 3.846153846153846e-05\tLoss: 0.143700\n",
      "Train Epoch: 26 [43520/60000 (72%)] lr: 3.846153846153846e-05\tLoss: 0.256968\n",
      "Train Epoch: 26 [46080/60000 (77%)] lr: 3.846153846153846e-05\tLoss: 0.179799\n",
      "Train Epoch: 26 [48640/60000 (81%)] lr: 3.846153846153846e-05\tLoss: 0.200302\n",
      "Train Epoch: 26 [51200/60000 (85%)] lr: 3.846153846153846e-05\tLoss: 0.158137\n",
      "Train Epoch: 26 [53760/60000 (89%)] lr: 3.846153846153846e-05\tLoss: 0.171644\n",
      "Train Epoch: 26 [56320/60000 (94%)] lr: 3.846153846153846e-05\tLoss: 0.137912\n",
      "Train Epoch: 26 [58880/60000 (98%)] lr: 3.846153846153846e-05\tLoss: 0.144132\n",
      "Finish 26 epoch(s). Epoch loss: 0.1773801511589517.\n",
      "Train Epoch: 27 [0/60000 (0%)] lr: 3.7037037037037037e-05\tLoss: 0.212950\n",
      "Train Epoch: 27 [2560/60000 (4%)] lr: 3.7037037037037037e-05\tLoss: 0.158288\n",
      "Train Epoch: 27 [5120/60000 (9%)] lr: 3.7037037037037037e-05\tLoss: 0.252462\n",
      "Train Epoch: 27 [7680/60000 (13%)] lr: 3.7037037037037037e-05\tLoss: 0.114829\n",
      "Train Epoch: 27 [10240/60000 (17%)] lr: 3.7037037037037037e-05\tLoss: 0.179222\n",
      "Train Epoch: 27 [12800/60000 (21%)] lr: 3.7037037037037037e-05\tLoss: 0.156311\n",
      "Train Epoch: 27 [15360/60000 (26%)] lr: 3.7037037037037037e-05\tLoss: 0.228907\n",
      "Train Epoch: 27 [17920/60000 (30%)] lr: 3.7037037037037037e-05\tLoss: 0.195282\n",
      "Train Epoch: 27 [20480/60000 (34%)] lr: 3.7037037037037037e-05\tLoss: 0.150731\n",
      "Train Epoch: 27 [23040/60000 (38%)] lr: 3.7037037037037037e-05\tLoss: 0.212112\n",
      "Train Epoch: 27 [25600/60000 (43%)] lr: 3.7037037037037037e-05\tLoss: 0.178466\n",
      "Train Epoch: 27 [28160/60000 (47%)] lr: 3.7037037037037037e-05\tLoss: 0.161888\n",
      "Train Epoch: 27 [30720/60000 (51%)] lr: 3.7037037037037037e-05\tLoss: 0.200110\n",
      "Train Epoch: 27 [33280/60000 (55%)] lr: 3.7037037037037037e-05\tLoss: 0.178670\n",
      "Train Epoch: 27 [35840/60000 (60%)] lr: 3.7037037037037037e-05\tLoss: 0.200371\n",
      "Train Epoch: 27 [38400/60000 (64%)] lr: 3.7037037037037037e-05\tLoss: 0.167456\n",
      "Train Epoch: 27 [40960/60000 (68%)] lr: 3.7037037037037037e-05\tLoss: 0.153820\n",
      "Train Epoch: 27 [43520/60000 (72%)] lr: 3.7037037037037037e-05\tLoss: 0.212900\n",
      "Train Epoch: 27 [46080/60000 (77%)] lr: 3.7037037037037037e-05\tLoss: 0.165205\n",
      "Train Epoch: 27 [48640/60000 (81%)] lr: 3.7037037037037037e-05\tLoss: 0.191458\n",
      "Train Epoch: 27 [51200/60000 (85%)] lr: 3.7037037037037037e-05\tLoss: 0.100385\n",
      "Train Epoch: 27 [53760/60000 (89%)] lr: 3.7037037037037037e-05\tLoss: 0.178974\n",
      "Train Epoch: 27 [56320/60000 (94%)] lr: 3.7037037037037037e-05\tLoss: 0.177507\n",
      "Train Epoch: 27 [58880/60000 (98%)] lr: 3.7037037037037037e-05\tLoss: 0.214824\n",
      "Finish 27 epoch(s). Epoch loss: 0.17566016601755263.\n",
      "Train Epoch: 28 [0/60000 (0%)] lr: 3.571428571428572e-05\tLoss: 0.141084\n",
      "Train Epoch: 28 [2560/60000 (4%)] lr: 3.571428571428572e-05\tLoss: 0.216768\n",
      "Train Epoch: 28 [5120/60000 (9%)] lr: 3.571428571428572e-05\tLoss: 0.128797\n",
      "Train Epoch: 28 [7680/60000 (13%)] lr: 3.571428571428572e-05\tLoss: 0.177350\n",
      "Train Epoch: 28 [10240/60000 (17%)] lr: 3.571428571428572e-05\tLoss: 0.150156\n",
      "Train Epoch: 28 [12800/60000 (21%)] lr: 3.571428571428572e-05\tLoss: 0.205626\n",
      "Train Epoch: 28 [15360/60000 (26%)] lr: 3.571428571428572e-05\tLoss: 0.218628\n",
      "Train Epoch: 28 [17920/60000 (30%)] lr: 3.571428571428572e-05\tLoss: 0.234582\n",
      "Train Epoch: 28 [20480/60000 (34%)] lr: 3.571428571428572e-05\tLoss: 0.220748\n",
      "Train Epoch: 28 [23040/60000 (38%)] lr: 3.571428571428572e-05\tLoss: 0.185310\n",
      "Train Epoch: 28 [25600/60000 (43%)] lr: 3.571428571428572e-05\tLoss: 0.160543\n",
      "Train Epoch: 28 [28160/60000 (47%)] lr: 3.571428571428572e-05\tLoss: 0.257293\n",
      "Train Epoch: 28 [30720/60000 (51%)] lr: 3.571428571428572e-05\tLoss: 0.181958\n",
      "Train Epoch: 28 [33280/60000 (55%)] lr: 3.571428571428572e-05\tLoss: 0.181734\n",
      "Train Epoch: 28 [35840/60000 (60%)] lr: 3.571428571428572e-05\tLoss: 0.135467\n",
      "Train Epoch: 28 [38400/60000 (64%)] lr: 3.571428571428572e-05\tLoss: 0.145778\n",
      "Train Epoch: 28 [40960/60000 (68%)] lr: 3.571428571428572e-05\tLoss: 0.188498\n",
      "Train Epoch: 28 [43520/60000 (72%)] lr: 3.571428571428572e-05\tLoss: 0.157675\n",
      "Train Epoch: 28 [46080/60000 (77%)] lr: 3.571428571428572e-05\tLoss: 0.146820\n",
      "Train Epoch: 28 [48640/60000 (81%)] lr: 3.571428571428572e-05\tLoss: 0.160419\n",
      "Train Epoch: 28 [51200/60000 (85%)] lr: 3.571428571428572e-05\tLoss: 0.236178\n"
     ]
    },
    {
     "name": "stdout",
     "output_type": "stream",
     "text": [
      "Train Epoch: 28 [53760/60000 (89%)] lr: 3.571428571428572e-05\tLoss: 0.175229\n",
      "Train Epoch: 28 [56320/60000 (94%)] lr: 3.571428571428572e-05\tLoss: 0.187496\n",
      "Train Epoch: 28 [58880/60000 (98%)] lr: 3.571428571428572e-05\tLoss: 0.218283\n",
      "Finish 28 epoch(s). Epoch loss: 0.17641717303306498.\n",
      "Train Epoch: 29 [0/60000 (0%)] lr: 3.4482758620689657e-05\tLoss: 0.183289\n",
      "Train Epoch: 29 [2560/60000 (4%)] lr: 3.4482758620689657e-05\tLoss: 0.180390\n",
      "Train Epoch: 29 [5120/60000 (9%)] lr: 3.4482758620689657e-05\tLoss: 0.167621\n",
      "Train Epoch: 29 [7680/60000 (13%)] lr: 3.4482758620689657e-05\tLoss: 0.135798\n",
      "Train Epoch: 29 [10240/60000 (17%)] lr: 3.4482758620689657e-05\tLoss: 0.177955\n",
      "Train Epoch: 29 [12800/60000 (21%)] lr: 3.4482758620689657e-05\tLoss: 0.275673\n",
      "Train Epoch: 29 [15360/60000 (26%)] lr: 3.4482758620689657e-05\tLoss: 0.164862\n",
      "Train Epoch: 29 [17920/60000 (30%)] lr: 3.4482758620689657e-05\tLoss: 0.225571\n",
      "Train Epoch: 29 [20480/60000 (34%)] lr: 3.4482758620689657e-05\tLoss: 0.166469\n",
      "Train Epoch: 29 [23040/60000 (38%)] lr: 3.4482758620689657e-05\tLoss: 0.113397\n",
      "Train Epoch: 29 [25600/60000 (43%)] lr: 3.4482758620689657e-05\tLoss: 0.158486\n",
      "Train Epoch: 29 [28160/60000 (47%)] lr: 3.4482758620689657e-05\tLoss: 0.176402\n",
      "Train Epoch: 29 [30720/60000 (51%)] lr: 3.4482758620689657e-05\tLoss: 0.164777\n",
      "Train Epoch: 29 [33280/60000 (55%)] lr: 3.4482758620689657e-05\tLoss: 0.149970\n",
      "Train Epoch: 29 [35840/60000 (60%)] lr: 3.4482758620689657e-05\tLoss: 0.162993\n",
      "Train Epoch: 29 [38400/60000 (64%)] lr: 3.4482758620689657e-05\tLoss: 0.194044\n",
      "Train Epoch: 29 [40960/60000 (68%)] lr: 3.4482758620689657e-05\tLoss: 0.132696\n",
      "Train Epoch: 29 [43520/60000 (72%)] lr: 3.4482758620689657e-05\tLoss: 0.135546\n",
      "Train Epoch: 29 [46080/60000 (77%)] lr: 3.4482758620689657e-05\tLoss: 0.205142\n",
      "Train Epoch: 29 [48640/60000 (81%)] lr: 3.4482758620689657e-05\tLoss: 0.118653\n",
      "Train Epoch: 29 [51200/60000 (85%)] lr: 3.4482758620689657e-05\tLoss: 0.124317\n",
      "Train Epoch: 29 [53760/60000 (89%)] lr: 3.4482758620689657e-05\tLoss: 0.239500\n",
      "Train Epoch: 29 [56320/60000 (94%)] lr: 3.4482758620689657e-05\tLoss: 0.146774\n",
      "Train Epoch: 29 [58880/60000 (98%)] lr: 3.4482758620689657e-05\tLoss: 0.122546\n",
      "Finish 29 epoch(s). Epoch loss: 0.16989296405239307.\n",
      "Train Epoch: 30 [0/60000 (0%)] lr: 3.3333333333333335e-05\tLoss: 0.177049\n",
      "Train Epoch: 30 [2560/60000 (4%)] lr: 3.3333333333333335e-05\tLoss: 0.318027\n",
      "Train Epoch: 30 [5120/60000 (9%)] lr: 3.3333333333333335e-05\tLoss: 0.160827\n",
      "Train Epoch: 30 [7680/60000 (13%)] lr: 3.3333333333333335e-05\tLoss: 0.177778\n",
      "Train Epoch: 30 [10240/60000 (17%)] lr: 3.3333333333333335e-05\tLoss: 0.113387\n",
      "Train Epoch: 30 [12800/60000 (21%)] lr: 3.3333333333333335e-05\tLoss: 0.158433\n",
      "Train Epoch: 30 [15360/60000 (26%)] lr: 3.3333333333333335e-05\tLoss: 0.173221\n",
      "Train Epoch: 30 [17920/60000 (30%)] lr: 3.3333333333333335e-05\tLoss: 0.216782\n",
      "Train Epoch: 30 [20480/60000 (34%)] lr: 3.3333333333333335e-05\tLoss: 0.243313\n",
      "Train Epoch: 30 [23040/60000 (38%)] lr: 3.3333333333333335e-05\tLoss: 0.133343\n",
      "Train Epoch: 30 [25600/60000 (43%)] lr: 3.3333333333333335e-05\tLoss: 0.235878\n",
      "Train Epoch: 30 [28160/60000 (47%)] lr: 3.3333333333333335e-05\tLoss: 0.142844\n",
      "Train Epoch: 30 [30720/60000 (51%)] lr: 3.3333333333333335e-05\tLoss: 0.169481\n",
      "Train Epoch: 30 [33280/60000 (55%)] lr: 3.3333333333333335e-05\tLoss: 0.141572\n",
      "Train Epoch: 30 [35840/60000 (60%)] lr: 3.3333333333333335e-05\tLoss: 0.141352\n",
      "Train Epoch: 30 [38400/60000 (64%)] lr: 3.3333333333333335e-05\tLoss: 0.181899\n",
      "Train Epoch: 30 [40960/60000 (68%)] lr: 3.3333333333333335e-05\tLoss: 0.199435\n",
      "Train Epoch: 30 [43520/60000 (72%)] lr: 3.3333333333333335e-05\tLoss: 0.174797\n",
      "Train Epoch: 30 [46080/60000 (77%)] lr: 3.3333333333333335e-05\tLoss: 0.182652\n",
      "Train Epoch: 30 [48640/60000 (81%)] lr: 3.3333333333333335e-05\tLoss: 0.140055\n",
      "Train Epoch: 30 [51200/60000 (85%)] lr: 3.3333333333333335e-05\tLoss: 0.143028\n",
      "Train Epoch: 30 [53760/60000 (89%)] lr: 3.3333333333333335e-05\tLoss: 0.205143\n",
      "Train Epoch: 30 [56320/60000 (94%)] lr: 3.3333333333333335e-05\tLoss: 0.175658\n",
      "Train Epoch: 30 [58880/60000 (98%)] lr: 3.3333333333333335e-05\tLoss: 0.179512\n",
      "Finish 30 epoch(s). Epoch loss: 0.17361247923145903.\n",
      "Train Epoch: 31 [0/60000 (0%)] lr: 3.2258064516129034e-05\tLoss: 0.157460\n",
      "Train Epoch: 31 [2560/60000 (4%)] lr: 3.2258064516129034e-05\tLoss: 0.117411\n",
      "Train Epoch: 31 [5120/60000 (9%)] lr: 3.2258064516129034e-05\tLoss: 0.200093\n",
      "Train Epoch: 31 [7680/60000 (13%)] lr: 3.2258064516129034e-05\tLoss: 0.133481\n",
      "Train Epoch: 31 [10240/60000 (17%)] lr: 3.2258064516129034e-05\tLoss: 0.129825\n",
      "Train Epoch: 31 [12800/60000 (21%)] lr: 3.2258064516129034e-05\tLoss: 0.176099\n",
      "Train Epoch: 31 [15360/60000 (26%)] lr: 3.2258064516129034e-05\tLoss: 0.105782\n",
      "Train Epoch: 31 [17920/60000 (30%)] lr: 3.2258064516129034e-05\tLoss: 0.166643\n",
      "Train Epoch: 31 [20480/60000 (34%)] lr: 3.2258064516129034e-05\tLoss: 0.185023\n",
      "Train Epoch: 31 [23040/60000 (38%)] lr: 3.2258064516129034e-05\tLoss: 0.218269\n",
      "Train Epoch: 31 [25600/60000 (43%)] lr: 3.2258064516129034e-05\tLoss: 0.144624\n",
      "Train Epoch: 31 [28160/60000 (47%)] lr: 3.2258064516129034e-05\tLoss: 0.152333\n",
      "Train Epoch: 31 [30720/60000 (51%)] lr: 3.2258064516129034e-05\tLoss: 0.145723\n",
      "Train Epoch: 31 [33280/60000 (55%)] lr: 3.2258064516129034e-05\tLoss: 0.162047\n",
      "Train Epoch: 31 [35840/60000 (60%)] lr: 3.2258064516129034e-05\tLoss: 0.188341\n",
      "Train Epoch: 31 [38400/60000 (64%)] lr: 3.2258064516129034e-05\tLoss: 0.200072\n",
      "Train Epoch: 31 [40960/60000 (68%)] lr: 3.2258064516129034e-05\tLoss: 0.081013\n",
      "Train Epoch: 31 [43520/60000 (72%)] lr: 3.2258064516129034e-05\tLoss: 0.180436\n",
      "Train Epoch: 31 [46080/60000 (77%)] lr: 3.2258064516129034e-05\tLoss: 0.174101\n",
      "Train Epoch: 31 [48640/60000 (81%)] lr: 3.2258064516129034e-05\tLoss: 0.246227\n",
      "Train Epoch: 31 [51200/60000 (85%)] lr: 3.2258064516129034e-05\tLoss: 0.193239\n",
      "Train Epoch: 31 [53760/60000 (89%)] lr: 3.2258064516129034e-05\tLoss: 0.165789\n",
      "Train Epoch: 31 [56320/60000 (94%)] lr: 3.2258064516129034e-05\tLoss: 0.164171\n",
      "Train Epoch: 31 [58880/60000 (98%)] lr: 3.2258064516129034e-05\tLoss: 0.213792\n",
      "Finish 31 epoch(s). Epoch loss: 0.17342344126168718.\n",
      "Train Epoch: 32 [0/60000 (0%)] lr: 3.125e-05\tLoss: 0.190390\n",
      "Train Epoch: 32 [2560/60000 (4%)] lr: 3.125e-05\tLoss: 0.183921\n",
      "Train Epoch: 32 [5120/60000 (9%)] lr: 3.125e-05\tLoss: 0.179164\n",
      "Train Epoch: 32 [7680/60000 (13%)] lr: 3.125e-05\tLoss: 0.162360\n",
      "Train Epoch: 32 [10240/60000 (17%)] lr: 3.125e-05\tLoss: 0.252529\n",
      "Train Epoch: 32 [12800/60000 (21%)] lr: 3.125e-05\tLoss: 0.134582\n",
      "Train Epoch: 32 [15360/60000 (26%)] lr: 3.125e-05\tLoss: 0.136749\n",
      "Train Epoch: 32 [17920/60000 (30%)] lr: 3.125e-05\tLoss: 0.146718\n",
      "Train Epoch: 32 [20480/60000 (34%)] lr: 3.125e-05\tLoss: 0.159977\n",
      "Train Epoch: 32 [23040/60000 (38%)] lr: 3.125e-05\tLoss: 0.194026\n",
      "Train Epoch: 32 [25600/60000 (43%)] lr: 3.125e-05\tLoss: 0.137471\n",
      "Train Epoch: 32 [28160/60000 (47%)] lr: 3.125e-05\tLoss: 0.148030\n",
      "Train Epoch: 32 [30720/60000 (51%)] lr: 3.125e-05\tLoss: 0.162832\n",
      "Train Epoch: 32 [33280/60000 (55%)] lr: 3.125e-05\tLoss: 0.261655\n",
      "Train Epoch: 32 [35840/60000 (60%)] lr: 3.125e-05\tLoss: 0.186147\n",
      "Train Epoch: 32 [38400/60000 (64%)] lr: 3.125e-05\tLoss: 0.161214\n",
      "Train Epoch: 32 [40960/60000 (68%)] lr: 3.125e-05\tLoss: 0.177248\n",
      "Train Epoch: 32 [43520/60000 (72%)] lr: 3.125e-05\tLoss: 0.153951\n",
      "Train Epoch: 32 [46080/60000 (77%)] lr: 3.125e-05\tLoss: 0.150138\n",
      "Train Epoch: 32 [48640/60000 (81%)] lr: 3.125e-05\tLoss: 0.126186\n",
      "Train Epoch: 32 [51200/60000 (85%)] lr: 3.125e-05\tLoss: 0.203945\n",
      "Train Epoch: 32 [53760/60000 (89%)] lr: 3.125e-05\tLoss: 0.196299\n",
      "Train Epoch: 32 [56320/60000 (94%)] lr: 3.125e-05\tLoss: 0.264455\n",
      "Train Epoch: 32 [58880/60000 (98%)] lr: 3.125e-05\tLoss: 0.163390\n",
      "Finish 32 epoch(s). Epoch loss: 0.17134669229705282.\n",
      "Train Epoch: 33 [0/60000 (0%)] lr: 3.0303030303030302e-05\tLoss: 0.121896\n",
      "Train Epoch: 33 [2560/60000 (4%)] lr: 3.0303030303030302e-05\tLoss: 0.193842\n",
      "Train Epoch: 33 [5120/60000 (9%)] lr: 3.0303030303030302e-05\tLoss: 0.230533\n",
      "Train Epoch: 33 [7680/60000 (13%)] lr: 3.0303030303030302e-05\tLoss: 0.135702\n",
      "Train Epoch: 33 [10240/60000 (17%)] lr: 3.0303030303030302e-05\tLoss: 0.237792\n",
      "Train Epoch: 33 [12800/60000 (21%)] lr: 3.0303030303030302e-05\tLoss: 0.169654\n",
      "Train Epoch: 33 [15360/60000 (26%)] lr: 3.0303030303030302e-05\tLoss: 0.157934\n",
      "Train Epoch: 33 [17920/60000 (30%)] lr: 3.0303030303030302e-05\tLoss: 0.218474\n"
     ]
    },
    {
     "name": "stdout",
     "output_type": "stream",
     "text": [
      "Train Epoch: 33 [20480/60000 (34%)] lr: 3.0303030303030302e-05\tLoss: 0.179060\n",
      "Train Epoch: 33 [23040/60000 (38%)] lr: 3.0303030303030302e-05\tLoss: 0.165890\n",
      "Train Epoch: 33 [25600/60000 (43%)] lr: 3.0303030303030302e-05\tLoss: 0.111580\n",
      "Train Epoch: 33 [28160/60000 (47%)] lr: 3.0303030303030302e-05\tLoss: 0.174673\n",
      "Train Epoch: 33 [30720/60000 (51%)] lr: 3.0303030303030302e-05\tLoss: 0.221712\n",
      "Train Epoch: 33 [33280/60000 (55%)] lr: 3.0303030303030302e-05\tLoss: 0.204929\n",
      "Train Epoch: 33 [35840/60000 (60%)] lr: 3.0303030303030302e-05\tLoss: 0.143972\n",
      "Train Epoch: 33 [38400/60000 (64%)] lr: 3.0303030303030302e-05\tLoss: 0.118299\n",
      "Train Epoch: 33 [40960/60000 (68%)] lr: 3.0303030303030302e-05\tLoss: 0.165608\n",
      "Train Epoch: 33 [43520/60000 (72%)] lr: 3.0303030303030302e-05\tLoss: 0.132758\n",
      "Train Epoch: 33 [46080/60000 (77%)] lr: 3.0303030303030302e-05\tLoss: 0.196935\n",
      "Train Epoch: 33 [48640/60000 (81%)] lr: 3.0303030303030302e-05\tLoss: 0.188508\n",
      "Train Epoch: 33 [51200/60000 (85%)] lr: 3.0303030303030302e-05\tLoss: 0.229945\n",
      "Train Epoch: 33 [53760/60000 (89%)] lr: 3.0303030303030302e-05\tLoss: 0.228785\n",
      "Train Epoch: 33 [56320/60000 (94%)] lr: 3.0303030303030302e-05\tLoss: 0.172685\n",
      "Train Epoch: 33 [58880/60000 (98%)] lr: 3.0303030303030302e-05\tLoss: 0.192544\n",
      "Finish 33 epoch(s). Epoch loss: 0.17069531514289532.\n",
      "Train Epoch: 34 [0/60000 (0%)] lr: 2.9411764705882354e-05\tLoss: 0.238335\n",
      "Train Epoch: 34 [2560/60000 (4%)] lr: 2.9411764705882354e-05\tLoss: 0.149723\n",
      "Train Epoch: 34 [5120/60000 (9%)] lr: 2.9411764705882354e-05\tLoss: 0.133088\n",
      "Train Epoch: 34 [7680/60000 (13%)] lr: 2.9411764705882354e-05\tLoss: 0.160946\n",
      "Train Epoch: 34 [10240/60000 (17%)] lr: 2.9411764705882354e-05\tLoss: 0.209798\n",
      "Train Epoch: 34 [12800/60000 (21%)] lr: 2.9411764705882354e-05\tLoss: 0.198490\n",
      "Train Epoch: 34 [15360/60000 (26%)] lr: 2.9411764705882354e-05\tLoss: 0.157959\n",
      "Train Epoch: 34 [17920/60000 (30%)] lr: 2.9411764705882354e-05\tLoss: 0.142216\n",
      "Train Epoch: 34 [20480/60000 (34%)] lr: 2.9411764705882354e-05\tLoss: 0.212747\n",
      "Train Epoch: 34 [23040/60000 (38%)] lr: 2.9411764705882354e-05\tLoss: 0.133119\n",
      "Train Epoch: 34 [25600/60000 (43%)] lr: 2.9411764705882354e-05\tLoss: 0.228887\n",
      "Train Epoch: 34 [28160/60000 (47%)] lr: 2.9411764705882354e-05\tLoss: 0.156196\n",
      "Train Epoch: 34 [30720/60000 (51%)] lr: 2.9411764705882354e-05\tLoss: 0.169409\n",
      "Train Epoch: 34 [33280/60000 (55%)] lr: 2.9411764705882354e-05\tLoss: 0.215846\n",
      "Train Epoch: 34 [35840/60000 (60%)] lr: 2.9411764705882354e-05\tLoss: 0.113998\n",
      "Train Epoch: 34 [38400/60000 (64%)] lr: 2.9411764705882354e-05\tLoss: 0.125885\n",
      "Train Epoch: 34 [40960/60000 (68%)] lr: 2.9411764705882354e-05\tLoss: 0.171714\n",
      "Train Epoch: 34 [43520/60000 (72%)] lr: 2.9411764705882354e-05\tLoss: 0.195040\n",
      "Train Epoch: 34 [46080/60000 (77%)] lr: 2.9411764705882354e-05\tLoss: 0.151920\n",
      "Train Epoch: 34 [48640/60000 (81%)] lr: 2.9411764705882354e-05\tLoss: 0.185147\n",
      "Train Epoch: 34 [51200/60000 (85%)] lr: 2.9411764705882354e-05\tLoss: 0.148248\n",
      "Train Epoch: 34 [53760/60000 (89%)] lr: 2.9411764705882354e-05\tLoss: 0.176881\n",
      "Train Epoch: 34 [56320/60000 (94%)] lr: 2.9411764705882354e-05\tLoss: 0.280690\n",
      "Train Epoch: 34 [58880/60000 (98%)] lr: 2.9411764705882354e-05\tLoss: 0.218344\n",
      "Finish 34 epoch(s). Epoch loss: 0.17417333116556735.\n",
      "Train Epoch: 35 [0/60000 (0%)] lr: 2.857142857142857e-05\tLoss: 0.231968\n",
      "Train Epoch: 35 [2560/60000 (4%)] lr: 2.857142857142857e-05\tLoss: 0.194103\n",
      "Train Epoch: 35 [5120/60000 (9%)] lr: 2.857142857142857e-05\tLoss: 0.173976\n",
      "Train Epoch: 35 [7680/60000 (13%)] lr: 2.857142857142857e-05\tLoss: 0.173374\n",
      "Train Epoch: 35 [10240/60000 (17%)] lr: 2.857142857142857e-05\tLoss: 0.214063\n",
      "Train Epoch: 35 [12800/60000 (21%)] lr: 2.857142857142857e-05\tLoss: 0.118782\n",
      "Train Epoch: 35 [15360/60000 (26%)] lr: 2.857142857142857e-05\tLoss: 0.156051\n",
      "Train Epoch: 35 [17920/60000 (30%)] lr: 2.857142857142857e-05\tLoss: 0.148023\n",
      "Train Epoch: 35 [20480/60000 (34%)] lr: 2.857142857142857e-05\tLoss: 0.145506\n",
      "Train Epoch: 35 [23040/60000 (38%)] lr: 2.857142857142857e-05\tLoss: 0.167416\n",
      "Train Epoch: 35 [25600/60000 (43%)] lr: 2.857142857142857e-05\tLoss: 0.144156\n",
      "Train Epoch: 35 [28160/60000 (47%)] lr: 2.857142857142857e-05\tLoss: 0.115474\n",
      "Train Epoch: 35 [30720/60000 (51%)] lr: 2.857142857142857e-05\tLoss: 0.213360\n",
      "Train Epoch: 35 [33280/60000 (55%)] lr: 2.857142857142857e-05\tLoss: 0.178866\n",
      "Train Epoch: 35 [35840/60000 (60%)] lr: 2.857142857142857e-05\tLoss: 0.132107\n",
      "Train Epoch: 35 [38400/60000 (64%)] lr: 2.857142857142857e-05\tLoss: 0.161267\n",
      "Train Epoch: 35 [40960/60000 (68%)] lr: 2.857142857142857e-05\tLoss: 0.216789\n",
      "Train Epoch: 35 [43520/60000 (72%)] lr: 2.857142857142857e-05\tLoss: 0.157145\n",
      "Train Epoch: 35 [46080/60000 (77%)] lr: 2.857142857142857e-05\tLoss: 0.137878\n",
      "Train Epoch: 35 [48640/60000 (81%)] lr: 2.857142857142857e-05\tLoss: 0.182027\n",
      "Train Epoch: 35 [51200/60000 (85%)] lr: 2.857142857142857e-05\tLoss: 0.194381\n",
      "Train Epoch: 35 [53760/60000 (89%)] lr: 2.857142857142857e-05\tLoss: 0.175933\n",
      "Train Epoch: 35 [56320/60000 (94%)] lr: 2.857142857142857e-05\tLoss: 0.176898\n",
      "Train Epoch: 35 [58880/60000 (98%)] lr: 2.857142857142857e-05\tLoss: 0.127107\n",
      "Finish 35 epoch(s). Epoch loss: 0.17021321955513447.\n",
      "Train Epoch: 36 [0/60000 (0%)] lr: 2.777777777777778e-05\tLoss: 0.151768\n",
      "Train Epoch: 36 [2560/60000 (4%)] lr: 2.777777777777778e-05\tLoss: 0.127800\n",
      "Train Epoch: 36 [5120/60000 (9%)] lr: 2.777777777777778e-05\tLoss: 0.277641\n",
      "Train Epoch: 36 [7680/60000 (13%)] lr: 2.777777777777778e-05\tLoss: 0.161360\n",
      "Train Epoch: 36 [10240/60000 (17%)] lr: 2.777777777777778e-05\tLoss: 0.170762\n",
      "Train Epoch: 36 [12800/60000 (21%)] lr: 2.777777777777778e-05\tLoss: 0.164716\n",
      "Train Epoch: 36 [15360/60000 (26%)] lr: 2.777777777777778e-05\tLoss: 0.152409\n",
      "Train Epoch: 36 [17920/60000 (30%)] lr: 2.777777777777778e-05\tLoss: 0.114270\n",
      "Train Epoch: 36 [20480/60000 (34%)] lr: 2.777777777777778e-05\tLoss: 0.149870\n",
      "Train Epoch: 36 [23040/60000 (38%)] lr: 2.777777777777778e-05\tLoss: 0.153748\n",
      "Train Epoch: 36 [25600/60000 (43%)] lr: 2.777777777777778e-05\tLoss: 0.204813\n",
      "Train Epoch: 36 [28160/60000 (47%)] lr: 2.777777777777778e-05\tLoss: 0.204021\n",
      "Train Epoch: 36 [30720/60000 (51%)] lr: 2.777777777777778e-05\tLoss: 0.124455\n",
      "Train Epoch: 36 [33280/60000 (55%)] lr: 2.777777777777778e-05\tLoss: 0.140554\n",
      "Train Epoch: 36 [35840/60000 (60%)] lr: 2.777777777777778e-05\tLoss: 0.156220\n",
      "Train Epoch: 36 [38400/60000 (64%)] lr: 2.777777777777778e-05\tLoss: 0.145192\n",
      "Train Epoch: 36 [40960/60000 (68%)] lr: 2.777777777777778e-05\tLoss: 0.187865\n",
      "Train Epoch: 36 [43520/60000 (72%)] lr: 2.777777777777778e-05\tLoss: 0.086686\n",
      "Train Epoch: 36 [46080/60000 (77%)] lr: 2.777777777777778e-05\tLoss: 0.137606\n",
      "Train Epoch: 36 [48640/60000 (81%)] lr: 2.777777777777778e-05\tLoss: 0.152627\n",
      "Train Epoch: 36 [51200/60000 (85%)] lr: 2.777777777777778e-05\tLoss: 0.188380\n",
      "Train Epoch: 36 [53760/60000 (89%)] lr: 2.777777777777778e-05\tLoss: 0.189430\n",
      "Train Epoch: 36 [56320/60000 (94%)] lr: 2.777777777777778e-05\tLoss: 0.132857\n",
      "Train Epoch: 36 [58880/60000 (98%)] lr: 2.777777777777778e-05\tLoss: 0.113760\n",
      "Finish 36 epoch(s). Epoch loss: 0.17022654179562913.\n",
      "Train Epoch: 37 [0/60000 (0%)] lr: 2.7027027027027027e-05\tLoss: 0.181179\n",
      "Train Epoch: 37 [2560/60000 (4%)] lr: 2.7027027027027027e-05\tLoss: 0.115041\n",
      "Train Epoch: 37 [5120/60000 (9%)] lr: 2.7027027027027027e-05\tLoss: 0.101552\n",
      "Train Epoch: 37 [7680/60000 (13%)] lr: 2.7027027027027027e-05\tLoss: 0.128934\n",
      "Train Epoch: 37 [10240/60000 (17%)] lr: 2.7027027027027027e-05\tLoss: 0.174587\n",
      "Train Epoch: 37 [12800/60000 (21%)] lr: 2.7027027027027027e-05\tLoss: 0.193397\n",
      "Train Epoch: 37 [15360/60000 (26%)] lr: 2.7027027027027027e-05\tLoss: 0.224180\n",
      "Train Epoch: 37 [17920/60000 (30%)] lr: 2.7027027027027027e-05\tLoss: 0.134120\n",
      "Train Epoch: 37 [20480/60000 (34%)] lr: 2.7027027027027027e-05\tLoss: 0.177609\n",
      "Train Epoch: 37 [23040/60000 (38%)] lr: 2.7027027027027027e-05\tLoss: 0.143363\n",
      "Train Epoch: 37 [25600/60000 (43%)] lr: 2.7027027027027027e-05\tLoss: 0.145879\n",
      "Train Epoch: 37 [28160/60000 (47%)] lr: 2.7027027027027027e-05\tLoss: 0.127365\n",
      "Train Epoch: 37 [30720/60000 (51%)] lr: 2.7027027027027027e-05\tLoss: 0.163305\n",
      "Train Epoch: 37 [33280/60000 (55%)] lr: 2.7027027027027027e-05\tLoss: 0.136445\n",
      "Train Epoch: 37 [35840/60000 (60%)] lr: 2.7027027027027027e-05\tLoss: 0.243752\n",
      "Train Epoch: 37 [38400/60000 (64%)] lr: 2.7027027027027027e-05\tLoss: 0.179519\n"
     ]
    },
    {
     "name": "stdout",
     "output_type": "stream",
     "text": [
      "Train Epoch: 37 [40960/60000 (68%)] lr: 2.7027027027027027e-05\tLoss: 0.162154\n",
      "Train Epoch: 37 [43520/60000 (72%)] lr: 2.7027027027027027e-05\tLoss: 0.153923\n",
      "Train Epoch: 37 [46080/60000 (77%)] lr: 2.7027027027027027e-05\tLoss: 0.193674\n",
      "Train Epoch: 37 [48640/60000 (81%)] lr: 2.7027027027027027e-05\tLoss: 0.170888\n",
      "Train Epoch: 37 [51200/60000 (85%)] lr: 2.7027027027027027e-05\tLoss: 0.108453\n",
      "Train Epoch: 37 [53760/60000 (89%)] lr: 2.7027027027027027e-05\tLoss: 0.149487\n",
      "Train Epoch: 37 [56320/60000 (94%)] lr: 2.7027027027027027e-05\tLoss: 0.177126\n",
      "Train Epoch: 37 [58880/60000 (98%)] lr: 2.7027027027027027e-05\tLoss: 0.191999\n",
      "Finish 37 epoch(s). Epoch loss: 0.17014507565726625.\n",
      "Train Epoch: 38 [0/60000 (0%)] lr: 2.6315789473684212e-05\tLoss: 0.155595\n",
      "Train Epoch: 38 [2560/60000 (4%)] lr: 2.6315789473684212e-05\tLoss: 0.199932\n",
      "Train Epoch: 38 [5120/60000 (9%)] lr: 2.6315789473684212e-05\tLoss: 0.195474\n",
      "Train Epoch: 38 [7680/60000 (13%)] lr: 2.6315789473684212e-05\tLoss: 0.171323\n",
      "Train Epoch: 38 [10240/60000 (17%)] lr: 2.6315789473684212e-05\tLoss: 0.138122\n",
      "Train Epoch: 38 [12800/60000 (21%)] lr: 2.6315789473684212e-05\tLoss: 0.174569\n",
      "Train Epoch: 38 [15360/60000 (26%)] lr: 2.6315789473684212e-05\tLoss: 0.175421\n",
      "Train Epoch: 38 [17920/60000 (30%)] lr: 2.6315789473684212e-05\tLoss: 0.164975\n",
      "Train Epoch: 38 [20480/60000 (34%)] lr: 2.6315789473684212e-05\tLoss: 0.126326\n",
      "Train Epoch: 38 [23040/60000 (38%)] lr: 2.6315789473684212e-05\tLoss: 0.213262\n",
      "Train Epoch: 38 [25600/60000 (43%)] lr: 2.6315789473684212e-05\tLoss: 0.314288\n",
      "Train Epoch: 38 [28160/60000 (47%)] lr: 2.6315789473684212e-05\tLoss: 0.193724\n",
      "Train Epoch: 38 [30720/60000 (51%)] lr: 2.6315789473684212e-05\tLoss: 0.231525\n",
      "Train Epoch: 38 [33280/60000 (55%)] lr: 2.6315789473684212e-05\tLoss: 0.176820\n",
      "Train Epoch: 38 [35840/60000 (60%)] lr: 2.6315789473684212e-05\tLoss: 0.120126\n",
      "Train Epoch: 38 [38400/60000 (64%)] lr: 2.6315789473684212e-05\tLoss: 0.131903\n",
      "Train Epoch: 38 [40960/60000 (68%)] lr: 2.6315789473684212e-05\tLoss: 0.161832\n",
      "Train Epoch: 38 [43520/60000 (72%)] lr: 2.6315789473684212e-05\tLoss: 0.192659\n",
      "Train Epoch: 38 [46080/60000 (77%)] lr: 2.6315789473684212e-05\tLoss: 0.213327\n",
      "Train Epoch: 38 [48640/60000 (81%)] lr: 2.6315789473684212e-05\tLoss: 0.193850\n",
      "Train Epoch: 38 [51200/60000 (85%)] lr: 2.6315789473684212e-05\tLoss: 0.141236\n",
      "Train Epoch: 38 [53760/60000 (89%)] lr: 2.6315789473684212e-05\tLoss: 0.119396\n",
      "Train Epoch: 38 [56320/60000 (94%)] lr: 2.6315789473684212e-05\tLoss: 0.192889\n",
      "Train Epoch: 38 [58880/60000 (98%)] lr: 2.6315789473684212e-05\tLoss: 0.219529\n",
      "Finish 38 epoch(s). Epoch loss: 0.1684536521422102.\n",
      "Train Epoch: 39 [0/60000 (0%)] lr: 2.5641025641025643e-05\tLoss: 0.157269\n",
      "Train Epoch: 39 [2560/60000 (4%)] lr: 2.5641025641025643e-05\tLoss: 0.118757\n",
      "Train Epoch: 39 [5120/60000 (9%)] lr: 2.5641025641025643e-05\tLoss: 0.162911\n",
      "Train Epoch: 39 [7680/60000 (13%)] lr: 2.5641025641025643e-05\tLoss: 0.164619\n",
      "Train Epoch: 39 [10240/60000 (17%)] lr: 2.5641025641025643e-05\tLoss: 0.119913\n",
      "Train Epoch: 39 [12800/60000 (21%)] lr: 2.5641025641025643e-05\tLoss: 0.196576\n",
      "Train Epoch: 39 [15360/60000 (26%)] lr: 2.5641025641025643e-05\tLoss: 0.143849\n",
      "Train Epoch: 39 [17920/60000 (30%)] lr: 2.5641025641025643e-05\tLoss: 0.110090\n",
      "Train Epoch: 39 [20480/60000 (34%)] lr: 2.5641025641025643e-05\tLoss: 0.103399\n",
      "Train Epoch: 39 [23040/60000 (38%)] lr: 2.5641025641025643e-05\tLoss: 0.146456\n",
      "Train Epoch: 39 [25600/60000 (43%)] lr: 2.5641025641025643e-05\tLoss: 0.140652\n",
      "Train Epoch: 39 [28160/60000 (47%)] lr: 2.5641025641025643e-05\tLoss: 0.143026\n",
      "Train Epoch: 39 [30720/60000 (51%)] lr: 2.5641025641025643e-05\tLoss: 0.294553\n",
      "Train Epoch: 39 [33280/60000 (55%)] lr: 2.5641025641025643e-05\tLoss: 0.194206\n",
      "Train Epoch: 39 [35840/60000 (60%)] lr: 2.5641025641025643e-05\tLoss: 0.188026\n",
      "Train Epoch: 39 [38400/60000 (64%)] lr: 2.5641025641025643e-05\tLoss: 0.087939\n",
      "Train Epoch: 39 [40960/60000 (68%)] lr: 2.5641025641025643e-05\tLoss: 0.151998\n",
      "Train Epoch: 39 [43520/60000 (72%)] lr: 2.5641025641025643e-05\tLoss: 0.155667\n",
      "Train Epoch: 39 [46080/60000 (77%)] lr: 2.5641025641025643e-05\tLoss: 0.189204\n",
      "Train Epoch: 39 [48640/60000 (81%)] lr: 2.5641025641025643e-05\tLoss: 0.162677\n",
      "Train Epoch: 39 [51200/60000 (85%)] lr: 2.5641025641025643e-05\tLoss: 0.125605\n",
      "Train Epoch: 39 [53760/60000 (89%)] lr: 2.5641025641025643e-05\tLoss: 0.155743\n",
      "Train Epoch: 39 [56320/60000 (94%)] lr: 2.5641025641025643e-05\tLoss: 0.204937\n",
      "Train Epoch: 39 [58880/60000 (98%)] lr: 2.5641025641025643e-05\tLoss: 0.209572\n",
      "Finish 39 epoch(s). Epoch loss: 0.1684844508767128.\n",
      "Train Epoch: 40 [0/60000 (0%)] lr: 2.5e-05\tLoss: 0.179301\n",
      "Train Epoch: 40 [2560/60000 (4%)] lr: 2.5e-05\tLoss: 0.100210\n",
      "Train Epoch: 40 [5120/60000 (9%)] lr: 2.5e-05\tLoss: 0.096943\n",
      "Train Epoch: 40 [7680/60000 (13%)] lr: 2.5e-05\tLoss: 0.121415\n",
      "Train Epoch: 40 [10240/60000 (17%)] lr: 2.5e-05\tLoss: 0.146654\n",
      "Train Epoch: 40 [12800/60000 (21%)] lr: 2.5e-05\tLoss: 0.198729\n",
      "Train Epoch: 40 [15360/60000 (26%)] lr: 2.5e-05\tLoss: 0.213205\n",
      "Train Epoch: 40 [17920/60000 (30%)] lr: 2.5e-05\tLoss: 0.144303\n",
      "Train Epoch: 40 [20480/60000 (34%)] lr: 2.5e-05\tLoss: 0.215244\n",
      "Train Epoch: 40 [23040/60000 (38%)] lr: 2.5e-05\tLoss: 0.145467\n",
      "Train Epoch: 40 [25600/60000 (43%)] lr: 2.5e-05\tLoss: 0.137772\n",
      "Train Epoch: 40 [28160/60000 (47%)] lr: 2.5e-05\tLoss: 0.193437\n",
      "Train Epoch: 40 [30720/60000 (51%)] lr: 2.5e-05\tLoss: 0.110476\n",
      "Train Epoch: 40 [33280/60000 (55%)] lr: 2.5e-05\tLoss: 0.153327\n",
      "Train Epoch: 40 [35840/60000 (60%)] lr: 2.5e-05\tLoss: 0.205869\n",
      "Train Epoch: 40 [38400/60000 (64%)] lr: 2.5e-05\tLoss: 0.098897\n",
      "Train Epoch: 40 [40960/60000 (68%)] lr: 2.5e-05\tLoss: 0.140692\n",
      "Train Epoch: 40 [43520/60000 (72%)] lr: 2.5e-05\tLoss: 0.111087\n",
      "Train Epoch: 40 [46080/60000 (77%)] lr: 2.5e-05\tLoss: 0.267867\n",
      "Train Epoch: 40 [48640/60000 (81%)] lr: 2.5e-05\tLoss: 0.162669\n",
      "Train Epoch: 40 [51200/60000 (85%)] lr: 2.5e-05\tLoss: 0.112485\n",
      "Train Epoch: 40 [53760/60000 (89%)] lr: 2.5e-05\tLoss: 0.166698\n",
      "Train Epoch: 40 [56320/60000 (94%)] lr: 2.5e-05\tLoss: 0.161013\n",
      "Train Epoch: 40 [58880/60000 (98%)] lr: 2.5e-05\tLoss: 0.166215\n",
      "Finish 40 epoch(s). Epoch loss: 0.16680799985819675.\n",
      "Train Epoch: 41 [0/60000 (0%)] lr: 2.4390243902439026e-05\tLoss: 0.159805\n",
      "Train Epoch: 41 [2560/60000 (4%)] lr: 2.4390243902439026e-05\tLoss: 0.177369\n",
      "Train Epoch: 41 [5120/60000 (9%)] lr: 2.4390243902439026e-05\tLoss: 0.116888\n",
      "Train Epoch: 41 [7680/60000 (13%)] lr: 2.4390243902439026e-05\tLoss: 0.150240\n",
      "Train Epoch: 41 [10240/60000 (17%)] lr: 2.4390243902439026e-05\tLoss: 0.162243\n",
      "Train Epoch: 41 [12800/60000 (21%)] lr: 2.4390243902439026e-05\tLoss: 0.163657\n",
      "Train Epoch: 41 [15360/60000 (26%)] lr: 2.4390243902439026e-05\tLoss: 0.200610\n",
      "Train Epoch: 41 [17920/60000 (30%)] lr: 2.4390243902439026e-05\tLoss: 0.120932\n",
      "Train Epoch: 41 [20480/60000 (34%)] lr: 2.4390243902439026e-05\tLoss: 0.206709\n",
      "Train Epoch: 41 [23040/60000 (38%)] lr: 2.4390243902439026e-05\tLoss: 0.125713\n",
      "Train Epoch: 41 [25600/60000 (43%)] lr: 2.4390243902439026e-05\tLoss: 0.154528\n",
      "Train Epoch: 41 [28160/60000 (47%)] lr: 2.4390243902439026e-05\tLoss: 0.174337\n",
      "Train Epoch: 41 [30720/60000 (51%)] lr: 2.4390243902439026e-05\tLoss: 0.163762\n",
      "Train Epoch: 41 [33280/60000 (55%)] lr: 2.4390243902439026e-05\tLoss: 0.144954\n",
      "Train Epoch: 41 [35840/60000 (60%)] lr: 2.4390243902439026e-05\tLoss: 0.184690\n",
      "Train Epoch: 41 [38400/60000 (64%)] lr: 2.4390243902439026e-05\tLoss: 0.159118\n",
      "Train Epoch: 41 [40960/60000 (68%)] lr: 2.4390243902439026e-05\tLoss: 0.104400\n",
      "Train Epoch: 41 [43520/60000 (72%)] lr: 2.4390243902439026e-05\tLoss: 0.184487\n",
      "Train Epoch: 41 [46080/60000 (77%)] lr: 2.4390243902439026e-05\tLoss: 0.295660\n",
      "Train Epoch: 41 [48640/60000 (81%)] lr: 2.4390243902439026e-05\tLoss: 0.095292\n",
      "Train Epoch: 41 [51200/60000 (85%)] lr: 2.4390243902439026e-05\tLoss: 0.227398\n",
      "Train Epoch: 41 [53760/60000 (89%)] lr: 2.4390243902439026e-05\tLoss: 0.223248\n",
      "Train Epoch: 41 [56320/60000 (94%)] lr: 2.4390243902439026e-05\tLoss: 0.182255\n",
      "Train Epoch: 41 [58880/60000 (98%)] lr: 2.4390243902439026e-05\tLoss: 0.201491\n",
      "Finish 41 epoch(s). Epoch loss: 0.16978334248700042.\n",
      "Train Epoch: 42 [0/60000 (0%)] lr: 2.380952380952381e-05\tLoss: 0.128938\n",
      "Train Epoch: 42 [2560/60000 (4%)] lr: 2.380952380952381e-05\tLoss: 0.207138\n",
      "Train Epoch: 42 [5120/60000 (9%)] lr: 2.380952380952381e-05\tLoss: 0.143616\n"
     ]
    },
    {
     "name": "stdout",
     "output_type": "stream",
     "text": [
      "Train Epoch: 42 [7680/60000 (13%)] lr: 2.380952380952381e-05\tLoss: 0.171072\n",
      "Train Epoch: 42 [10240/60000 (17%)] lr: 2.380952380952381e-05\tLoss: 0.156287\n",
      "Train Epoch: 42 [12800/60000 (21%)] lr: 2.380952380952381e-05\tLoss: 0.166090\n",
      "Train Epoch: 42 [15360/60000 (26%)] lr: 2.380952380952381e-05\tLoss: 0.184492\n",
      "Train Epoch: 42 [17920/60000 (30%)] lr: 2.380952380952381e-05\tLoss: 0.149281\n",
      "Train Epoch: 42 [20480/60000 (34%)] lr: 2.380952380952381e-05\tLoss: 0.152663\n",
      "Train Epoch: 42 [23040/60000 (38%)] lr: 2.380952380952381e-05\tLoss: 0.170974\n",
      "Train Epoch: 42 [25600/60000 (43%)] lr: 2.380952380952381e-05\tLoss: 0.149398\n",
      "Train Epoch: 42 [28160/60000 (47%)] lr: 2.380952380952381e-05\tLoss: 0.177512\n",
      "Train Epoch: 42 [30720/60000 (51%)] lr: 2.380952380952381e-05\tLoss: 0.169692\n",
      "Train Epoch: 42 [33280/60000 (55%)] lr: 2.380952380952381e-05\tLoss: 0.175370\n",
      "Train Epoch: 42 [35840/60000 (60%)] lr: 2.380952380952381e-05\tLoss: 0.158894\n",
      "Train Epoch: 42 [38400/60000 (64%)] lr: 2.380952380952381e-05\tLoss: 0.172346\n",
      "Train Epoch: 42 [40960/60000 (68%)] lr: 2.380952380952381e-05\tLoss: 0.162393\n",
      "Train Epoch: 42 [43520/60000 (72%)] lr: 2.380952380952381e-05\tLoss: 0.178246\n",
      "Train Epoch: 42 [46080/60000 (77%)] lr: 2.380952380952381e-05\tLoss: 0.104637\n",
      "Train Epoch: 42 [48640/60000 (81%)] lr: 2.380952380952381e-05\tLoss: 0.226488\n",
      "Train Epoch: 42 [51200/60000 (85%)] lr: 2.380952380952381e-05\tLoss: 0.140378\n",
      "Train Epoch: 42 [53760/60000 (89%)] lr: 2.380952380952381e-05\tLoss: 0.171970\n",
      "Train Epoch: 42 [56320/60000 (94%)] lr: 2.380952380952381e-05\tLoss: 0.175891\n",
      "Train Epoch: 42 [58880/60000 (98%)] lr: 2.380952380952381e-05\tLoss: 0.187937\n",
      "Finish 42 epoch(s). Epoch loss: 0.16614073464210996.\n",
      "Train Epoch: 43 [0/60000 (0%)] lr: 2.3255813953488374e-05\tLoss: 0.213156\n",
      "Train Epoch: 43 [2560/60000 (4%)] lr: 2.3255813953488374e-05\tLoss: 0.204685\n",
      "Train Epoch: 43 [5120/60000 (9%)] lr: 2.3255813953488374e-05\tLoss: 0.177416\n",
      "Train Epoch: 43 [7680/60000 (13%)] lr: 2.3255813953488374e-05\tLoss: 0.149254\n",
      "Train Epoch: 43 [10240/60000 (17%)] lr: 2.3255813953488374e-05\tLoss: 0.102910\n",
      "Train Epoch: 43 [12800/60000 (21%)] lr: 2.3255813953488374e-05\tLoss: 0.163530\n",
      "Train Epoch: 43 [15360/60000 (26%)] lr: 2.3255813953488374e-05\tLoss: 0.216900\n",
      "Train Epoch: 43 [17920/60000 (30%)] lr: 2.3255813953488374e-05\tLoss: 0.148685\n",
      "Train Epoch: 43 [20480/60000 (34%)] lr: 2.3255813953488374e-05\tLoss: 0.186101\n",
      "Train Epoch: 43 [23040/60000 (38%)] lr: 2.3255813953488374e-05\tLoss: 0.212386\n",
      "Train Epoch: 43 [25600/60000 (43%)] lr: 2.3255813953488374e-05\tLoss: 0.204632\n",
      "Train Epoch: 43 [28160/60000 (47%)] lr: 2.3255813953488374e-05\tLoss: 0.185366\n",
      "Train Epoch: 43 [30720/60000 (51%)] lr: 2.3255813953488374e-05\tLoss: 0.160562\n",
      "Train Epoch: 43 [33280/60000 (55%)] lr: 2.3255813953488374e-05\tLoss: 0.084959\n",
      "Train Epoch: 43 [35840/60000 (60%)] lr: 2.3255813953488374e-05\tLoss: 0.118131\n",
      "Train Epoch: 43 [38400/60000 (64%)] lr: 2.3255813953488374e-05\tLoss: 0.143480\n",
      "Train Epoch: 43 [40960/60000 (68%)] lr: 2.3255813953488374e-05\tLoss: 0.181093\n",
      "Train Epoch: 43 [43520/60000 (72%)] lr: 2.3255813953488374e-05\tLoss: 0.147332\n",
      "Train Epoch: 43 [46080/60000 (77%)] lr: 2.3255813953488374e-05\tLoss: 0.250531\n",
      "Train Epoch: 43 [48640/60000 (81%)] lr: 2.3255813953488374e-05\tLoss: 0.131755\n",
      "Train Epoch: 43 [51200/60000 (85%)] lr: 2.3255813953488374e-05\tLoss: 0.273829\n",
      "Train Epoch: 43 [53760/60000 (89%)] lr: 2.3255813953488374e-05\tLoss: 0.156263\n",
      "Train Epoch: 43 [56320/60000 (94%)] lr: 2.3255813953488374e-05\tLoss: 0.151200\n",
      "Train Epoch: 43 [58880/60000 (98%)] lr: 2.3255813953488374e-05\tLoss: 0.182905\n",
      "Finish 43 epoch(s). Epoch loss: 0.16594114918658073.\n",
      "Train Epoch: 44 [0/60000 (0%)] lr: 2.272727272727273e-05\tLoss: 0.176182\n",
      "Train Epoch: 44 [2560/60000 (4%)] lr: 2.272727272727273e-05\tLoss: 0.122094\n",
      "Train Epoch: 44 [5120/60000 (9%)] lr: 2.272727272727273e-05\tLoss: 0.145787\n",
      "Train Epoch: 44 [7680/60000 (13%)] lr: 2.272727272727273e-05\tLoss: 0.129322\n",
      "Train Epoch: 44 [10240/60000 (17%)] lr: 2.272727272727273e-05\tLoss: 0.164578\n",
      "Train Epoch: 44 [12800/60000 (21%)] lr: 2.272727272727273e-05\tLoss: 0.152702\n",
      "Train Epoch: 44 [15360/60000 (26%)] lr: 2.272727272727273e-05\tLoss: 0.166196\n",
      "Train Epoch: 44 [17920/60000 (30%)] lr: 2.272727272727273e-05\tLoss: 0.146373\n",
      "Train Epoch: 44 [20480/60000 (34%)] lr: 2.272727272727273e-05\tLoss: 0.171001\n",
      "Train Epoch: 44 [23040/60000 (38%)] lr: 2.272727272727273e-05\tLoss: 0.139181\n",
      "Train Epoch: 44 [25600/60000 (43%)] lr: 2.272727272727273e-05\tLoss: 0.109778\n",
      "Train Epoch: 44 [28160/60000 (47%)] lr: 2.272727272727273e-05\tLoss: 0.194134\n",
      "Train Epoch: 44 [30720/60000 (51%)] lr: 2.272727272727273e-05\tLoss: 0.130208\n",
      "Train Epoch: 44 [33280/60000 (55%)] lr: 2.272727272727273e-05\tLoss: 0.185391\n",
      "Train Epoch: 44 [35840/60000 (60%)] lr: 2.272727272727273e-05\tLoss: 0.157822\n",
      "Train Epoch: 44 [38400/60000 (64%)] lr: 2.272727272727273e-05\tLoss: 0.173699\n",
      "Train Epoch: 44 [40960/60000 (68%)] lr: 2.272727272727273e-05\tLoss: 0.171964\n",
      "Train Epoch: 44 [43520/60000 (72%)] lr: 2.272727272727273e-05\tLoss: 0.150028\n",
      "Train Epoch: 44 [46080/60000 (77%)] lr: 2.272727272727273e-05\tLoss: 0.118058\n",
      "Train Epoch: 44 [48640/60000 (81%)] lr: 2.272727272727273e-05\tLoss: 0.196294\n",
      "Train Epoch: 44 [51200/60000 (85%)] lr: 2.272727272727273e-05\tLoss: 0.131653\n",
      "Train Epoch: 44 [53760/60000 (89%)] lr: 2.272727272727273e-05\tLoss: 0.155898\n",
      "Train Epoch: 44 [56320/60000 (94%)] lr: 2.272727272727273e-05\tLoss: 0.169728\n",
      "Train Epoch: 44 [58880/60000 (98%)] lr: 2.272727272727273e-05\tLoss: 0.180422\n",
      "Finish 44 epoch(s). Epoch loss: 0.16807831519461694.\n",
      "Train Epoch: 45 [0/60000 (0%)] lr: 2.2222222222222223e-05\tLoss: 0.178494\n",
      "Train Epoch: 45 [2560/60000 (4%)] lr: 2.2222222222222223e-05\tLoss: 0.162675\n",
      "Train Epoch: 45 [5120/60000 (9%)] lr: 2.2222222222222223e-05\tLoss: 0.103769\n",
      "Train Epoch: 45 [7680/60000 (13%)] lr: 2.2222222222222223e-05\tLoss: 0.191198\n",
      "Train Epoch: 45 [10240/60000 (17%)] lr: 2.2222222222222223e-05\tLoss: 0.152651\n",
      "Train Epoch: 45 [12800/60000 (21%)] lr: 2.2222222222222223e-05\tLoss: 0.174466\n",
      "Train Epoch: 45 [15360/60000 (26%)] lr: 2.2222222222222223e-05\tLoss: 0.152185\n",
      "Train Epoch: 45 [17920/60000 (30%)] lr: 2.2222222222222223e-05\tLoss: 0.122284\n",
      "Train Epoch: 45 [20480/60000 (34%)] lr: 2.2222222222222223e-05\tLoss: 0.188770\n",
      "Train Epoch: 45 [23040/60000 (38%)] lr: 2.2222222222222223e-05\tLoss: 0.198589\n",
      "Train Epoch: 45 [25600/60000 (43%)] lr: 2.2222222222222223e-05\tLoss: 0.154915\n",
      "Train Epoch: 45 [28160/60000 (47%)] lr: 2.2222222222222223e-05\tLoss: 0.154867\n",
      "Train Epoch: 45 [30720/60000 (51%)] lr: 2.2222222222222223e-05\tLoss: 0.170425\n",
      "Train Epoch: 45 [33280/60000 (55%)] lr: 2.2222222222222223e-05\tLoss: 0.249967\n",
      "Train Epoch: 45 [35840/60000 (60%)] lr: 2.2222222222222223e-05\tLoss: 0.145023\n",
      "Train Epoch: 45 [38400/60000 (64%)] lr: 2.2222222222222223e-05\tLoss: 0.170848\n",
      "Train Epoch: 45 [40960/60000 (68%)] lr: 2.2222222222222223e-05\tLoss: 0.103065\n",
      "Train Epoch: 45 [43520/60000 (72%)] lr: 2.2222222222222223e-05\tLoss: 0.159289\n",
      "Train Epoch: 45 [46080/60000 (77%)] lr: 2.2222222222222223e-05\tLoss: 0.145044\n",
      "Train Epoch: 45 [48640/60000 (81%)] lr: 2.2222222222222223e-05\tLoss: 0.136401\n",
      "Train Epoch: 45 [51200/60000 (85%)] lr: 2.2222222222222223e-05\tLoss: 0.180339\n",
      "Train Epoch: 45 [53760/60000 (89%)] lr: 2.2222222222222223e-05\tLoss: 0.285130\n",
      "Train Epoch: 45 [56320/60000 (94%)] lr: 2.2222222222222223e-05\tLoss: 0.180604\n",
      "Train Epoch: 45 [58880/60000 (98%)] lr: 2.2222222222222223e-05\tLoss: 0.140843\n",
      "Finish 45 epoch(s). Epoch loss: 0.16629288114131766.\n",
      "Train Epoch: 46 [0/60000 (0%)] lr: 2.173913043478261e-05\tLoss: 0.106316\n",
      "Train Epoch: 46 [2560/60000 (4%)] lr: 2.173913043478261e-05\tLoss: 0.275527\n",
      "Train Epoch: 46 [5120/60000 (9%)] lr: 2.173913043478261e-05\tLoss: 0.191586\n",
      "Train Epoch: 46 [7680/60000 (13%)] lr: 2.173913043478261e-05\tLoss: 0.181398\n",
      "Train Epoch: 46 [10240/60000 (17%)] lr: 2.173913043478261e-05\tLoss: 0.118434\n",
      "Train Epoch: 46 [12800/60000 (21%)] lr: 2.173913043478261e-05\tLoss: 0.132158\n",
      "Train Epoch: 46 [15360/60000 (26%)] lr: 2.173913043478261e-05\tLoss: 0.185180\n",
      "Train Epoch: 46 [17920/60000 (30%)] lr: 2.173913043478261e-05\tLoss: 0.137895\n",
      "Train Epoch: 46 [20480/60000 (34%)] lr: 2.173913043478261e-05\tLoss: 0.133865\n",
      "Train Epoch: 46 [23040/60000 (38%)] lr: 2.173913043478261e-05\tLoss: 0.176832\n",
      "Train Epoch: 46 [25600/60000 (43%)] lr: 2.173913043478261e-05\tLoss: 0.136159\n"
     ]
    },
    {
     "name": "stdout",
     "output_type": "stream",
     "text": [
      "Train Epoch: 46 [28160/60000 (47%)] lr: 2.173913043478261e-05\tLoss: 0.195799\n",
      "Train Epoch: 46 [30720/60000 (51%)] lr: 2.173913043478261e-05\tLoss: 0.176625\n",
      "Train Epoch: 46 [33280/60000 (55%)] lr: 2.173913043478261e-05\tLoss: 0.132602\n",
      "Train Epoch: 46 [35840/60000 (60%)] lr: 2.173913043478261e-05\tLoss: 0.188316\n",
      "Train Epoch: 46 [38400/60000 (64%)] lr: 2.173913043478261e-05\tLoss: 0.171930\n",
      "Train Epoch: 46 [40960/60000 (68%)] lr: 2.173913043478261e-05\tLoss: 0.178848\n",
      "Train Epoch: 46 [43520/60000 (72%)] lr: 2.173913043478261e-05\tLoss: 0.233700\n",
      "Train Epoch: 46 [46080/60000 (77%)] lr: 2.173913043478261e-05\tLoss: 0.180701\n",
      "Train Epoch: 46 [48640/60000 (81%)] lr: 2.173913043478261e-05\tLoss: 0.243319\n",
      "Train Epoch: 46 [51200/60000 (85%)] lr: 2.173913043478261e-05\tLoss: 0.165944\n",
      "Train Epoch: 46 [53760/60000 (89%)] lr: 2.173913043478261e-05\tLoss: 0.160345\n",
      "Train Epoch: 46 [56320/60000 (94%)] lr: 2.173913043478261e-05\tLoss: 0.174546\n",
      "Train Epoch: 46 [58880/60000 (98%)] lr: 2.173913043478261e-05\tLoss: 0.165835\n",
      "Finish 46 epoch(s). Epoch loss: 0.16665433971805776.\n",
      "Train Epoch: 47 [0/60000 (0%)] lr: 2.1276595744680852e-05\tLoss: 0.121560\n",
      "Train Epoch: 47 [2560/60000 (4%)] lr: 2.1276595744680852e-05\tLoss: 0.165016\n",
      "Train Epoch: 47 [5120/60000 (9%)] lr: 2.1276595744680852e-05\tLoss: 0.197503\n",
      "Train Epoch: 47 [7680/60000 (13%)] lr: 2.1276595744680852e-05\tLoss: 0.162309\n",
      "Train Epoch: 47 [10240/60000 (17%)] lr: 2.1276595744680852e-05\tLoss: 0.145018\n",
      "Train Epoch: 47 [12800/60000 (21%)] lr: 2.1276595744680852e-05\tLoss: 0.151721\n",
      "Train Epoch: 47 [15360/60000 (26%)] lr: 2.1276595744680852e-05\tLoss: 0.170319\n",
      "Train Epoch: 47 [17920/60000 (30%)] lr: 2.1276595744680852e-05\tLoss: 0.116282\n",
      "Train Epoch: 47 [20480/60000 (34%)] lr: 2.1276595744680852e-05\tLoss: 0.190778\n",
      "Train Epoch: 47 [23040/60000 (38%)] lr: 2.1276595744680852e-05\tLoss: 0.200973\n",
      "Train Epoch: 47 [25600/60000 (43%)] lr: 2.1276595744680852e-05\tLoss: 0.320828\n",
      "Train Epoch: 47 [28160/60000 (47%)] lr: 2.1276595744680852e-05\tLoss: 0.194546\n",
      "Train Epoch: 47 [30720/60000 (51%)] lr: 2.1276595744680852e-05\tLoss: 0.244499\n",
      "Train Epoch: 47 [33280/60000 (55%)] lr: 2.1276595744680852e-05\tLoss: 0.180541\n",
      "Train Epoch: 47 [35840/60000 (60%)] lr: 2.1276595744680852e-05\tLoss: 0.127678\n",
      "Train Epoch: 47 [38400/60000 (64%)] lr: 2.1276595744680852e-05\tLoss: 0.209276\n",
      "Train Epoch: 47 [40960/60000 (68%)] lr: 2.1276595744680852e-05\tLoss: 0.211107\n",
      "Train Epoch: 47 [43520/60000 (72%)] lr: 2.1276595744680852e-05\tLoss: 0.195487\n",
      "Train Epoch: 47 [46080/60000 (77%)] lr: 2.1276595744680852e-05\tLoss: 0.147840\n",
      "Train Epoch: 47 [48640/60000 (81%)] lr: 2.1276595744680852e-05\tLoss: 0.168390\n",
      "Train Epoch: 47 [51200/60000 (85%)] lr: 2.1276595744680852e-05\tLoss: 0.149027\n",
      "Train Epoch: 47 [53760/60000 (89%)] lr: 2.1276595744680852e-05\tLoss: 0.115519\n",
      "Train Epoch: 47 [56320/60000 (94%)] lr: 2.1276595744680852e-05\tLoss: 0.126870\n",
      "Train Epoch: 47 [58880/60000 (98%)] lr: 2.1276595744680852e-05\tLoss: 0.132239\n",
      "Finish 47 epoch(s). Epoch loss: 0.16699114771599466.\n",
      "Train Epoch: 48 [0/60000 (0%)] lr: 2.0833333333333333e-05\tLoss: 0.150966\n",
      "Train Epoch: 48 [2560/60000 (4%)] lr: 2.0833333333333333e-05\tLoss: 0.280712\n",
      "Train Epoch: 48 [5120/60000 (9%)] lr: 2.0833333333333333e-05\tLoss: 0.180230\n",
      "Train Epoch: 48 [7680/60000 (13%)] lr: 2.0833333333333333e-05\tLoss: 0.097704\n",
      "Train Epoch: 48 [10240/60000 (17%)] lr: 2.0833333333333333e-05\tLoss: 0.165367\n",
      "Train Epoch: 48 [12800/60000 (21%)] lr: 2.0833333333333333e-05\tLoss: 0.184780\n",
      "Train Epoch: 48 [15360/60000 (26%)] lr: 2.0833333333333333e-05\tLoss: 0.180341\n",
      "Train Epoch: 48 [17920/60000 (30%)] lr: 2.0833333333333333e-05\tLoss: 0.172716\n",
      "Train Epoch: 48 [20480/60000 (34%)] lr: 2.0833333333333333e-05\tLoss: 0.165165\n",
      "Train Epoch: 48 [23040/60000 (38%)] lr: 2.0833333333333333e-05\tLoss: 0.107933\n",
      "Train Epoch: 48 [25600/60000 (43%)] lr: 2.0833333333333333e-05\tLoss: 0.200281\n",
      "Train Epoch: 48 [28160/60000 (47%)] lr: 2.0833333333333333e-05\tLoss: 0.121675\n",
      "Train Epoch: 48 [30720/60000 (51%)] lr: 2.0833333333333333e-05\tLoss: 0.181621\n",
      "Train Epoch: 48 [33280/60000 (55%)] lr: 2.0833333333333333e-05\tLoss: 0.151318\n",
      "Train Epoch: 48 [35840/60000 (60%)] lr: 2.0833333333333333e-05\tLoss: 0.134183\n",
      "Train Epoch: 48 [38400/60000 (64%)] lr: 2.0833333333333333e-05\tLoss: 0.113569\n",
      "Train Epoch: 48 [40960/60000 (68%)] lr: 2.0833333333333333e-05\tLoss: 0.211477\n",
      "Train Epoch: 48 [43520/60000 (72%)] lr: 2.0833333333333333e-05\tLoss: 0.162388\n",
      "Train Epoch: 48 [46080/60000 (77%)] lr: 2.0833333333333333e-05\tLoss: 0.133420\n",
      "Train Epoch: 48 [48640/60000 (81%)] lr: 2.0833333333333333e-05\tLoss: 0.132335\n",
      "Train Epoch: 48 [51200/60000 (85%)] lr: 2.0833333333333333e-05\tLoss: 0.149791\n",
      "Train Epoch: 48 [53760/60000 (89%)] lr: 2.0833333333333333e-05\tLoss: 0.142495\n",
      "Train Epoch: 48 [56320/60000 (94%)] lr: 2.0833333333333333e-05\tLoss: 0.168431\n",
      "Train Epoch: 48 [58880/60000 (98%)] lr: 2.0833333333333333e-05\tLoss: 0.123583\n",
      "Finish 48 epoch(s). Epoch loss: 0.16502853983894308.\n",
      "Train Epoch: 49 [0/60000 (0%)] lr: 2.0408163265306123e-05\tLoss: 0.221100\n",
      "Train Epoch: 49 [2560/60000 (4%)] lr: 2.0408163265306123e-05\tLoss: 0.131329\n",
      "Train Epoch: 49 [5120/60000 (9%)] lr: 2.0408163265306123e-05\tLoss: 0.217280\n",
      "Train Epoch: 49 [7680/60000 (13%)] lr: 2.0408163265306123e-05\tLoss: 0.181413\n",
      "Train Epoch: 49 [10240/60000 (17%)] lr: 2.0408163265306123e-05\tLoss: 0.181364\n",
      "Train Epoch: 49 [12800/60000 (21%)] lr: 2.0408163265306123e-05\tLoss: 0.237854\n",
      "Train Epoch: 49 [15360/60000 (26%)] lr: 2.0408163265306123e-05\tLoss: 0.262689\n",
      "Train Epoch: 49 [17920/60000 (30%)] lr: 2.0408163265306123e-05\tLoss: 0.132590\n",
      "Train Epoch: 49 [20480/60000 (34%)] lr: 2.0408163265306123e-05\tLoss: 0.122370\n",
      "Train Epoch: 49 [23040/60000 (38%)] lr: 2.0408163265306123e-05\tLoss: 0.154255\n",
      "Train Epoch: 49 [25600/60000 (43%)] lr: 2.0408163265306123e-05\tLoss: 0.194015\n",
      "Train Epoch: 49 [28160/60000 (47%)] lr: 2.0408163265306123e-05\tLoss: 0.214540\n",
      "Train Epoch: 49 [30720/60000 (51%)] lr: 2.0408163265306123e-05\tLoss: 0.140216\n",
      "Train Epoch: 49 [33280/60000 (55%)] lr: 2.0408163265306123e-05\tLoss: 0.106446\n",
      "Train Epoch: 49 [35840/60000 (60%)] lr: 2.0408163265306123e-05\tLoss: 0.163566\n",
      "Train Epoch: 49 [38400/60000 (64%)] lr: 2.0408163265306123e-05\tLoss: 0.167541\n",
      "Train Epoch: 49 [40960/60000 (68%)] lr: 2.0408163265306123e-05\tLoss: 0.155093\n",
      "Train Epoch: 49 [43520/60000 (72%)] lr: 2.0408163265306123e-05\tLoss: 0.196150\n",
      "Train Epoch: 49 [46080/60000 (77%)] lr: 2.0408163265306123e-05\tLoss: 0.138834\n",
      "Train Epoch: 49 [48640/60000 (81%)] lr: 2.0408163265306123e-05\tLoss: 0.208969\n",
      "Train Epoch: 49 [51200/60000 (85%)] lr: 2.0408163265306123e-05\tLoss: 0.151515\n",
      "Train Epoch: 49 [53760/60000 (89%)] lr: 2.0408163265306123e-05\tLoss: 0.137075\n",
      "Train Epoch: 49 [56320/60000 (94%)] lr: 2.0408163265306123e-05\tLoss: 0.144030\n",
      "Train Epoch: 49 [58880/60000 (98%)] lr: 2.0408163265306123e-05\tLoss: 0.144405\n",
      "Finish 49 epoch(s). Epoch loss: 0.1677533673479202.\n",
      "Train Epoch: 50 [0/60000 (0%)] lr: 2e-05\tLoss: 0.220971\n",
      "Train Epoch: 50 [2560/60000 (4%)] lr: 2e-05\tLoss: 0.162487\n",
      "Train Epoch: 50 [5120/60000 (9%)] lr: 2e-05\tLoss: 0.152861\n",
      "Train Epoch: 50 [7680/60000 (13%)] lr: 2e-05\tLoss: 0.209538\n",
      "Train Epoch: 50 [10240/60000 (17%)] lr: 2e-05\tLoss: 0.229440\n",
      "Train Epoch: 50 [12800/60000 (21%)] lr: 2e-05\tLoss: 0.117002\n",
      "Train Epoch: 50 [15360/60000 (26%)] lr: 2e-05\tLoss: 0.187119\n",
      "Train Epoch: 50 [17920/60000 (30%)] lr: 2e-05\tLoss: 0.190488\n",
      "Train Epoch: 50 [20480/60000 (34%)] lr: 2e-05\tLoss: 0.150544\n",
      "Train Epoch: 50 [23040/60000 (38%)] lr: 2e-05\tLoss: 0.159771\n",
      "Train Epoch: 50 [25600/60000 (43%)] lr: 2e-05\tLoss: 0.176393\n",
      "Train Epoch: 50 [28160/60000 (47%)] lr: 2e-05\tLoss: 0.187231\n",
      "Train Epoch: 50 [30720/60000 (51%)] lr: 2e-05\tLoss: 0.091024\n",
      "Train Epoch: 50 [33280/60000 (55%)] lr: 2e-05\tLoss: 0.237441\n",
      "Train Epoch: 50 [35840/60000 (60%)] lr: 2e-05\tLoss: 0.200340\n",
      "Train Epoch: 50 [38400/60000 (64%)] lr: 2e-05\tLoss: 0.169891\n",
      "Train Epoch: 50 [40960/60000 (68%)] lr: 2e-05\tLoss: 0.145286\n",
      "Train Epoch: 50 [43520/60000 (72%)] lr: 2e-05\tLoss: 0.155948\n",
      "Train Epoch: 50 [46080/60000 (77%)] lr: 2e-05\tLoss: 0.172061\n",
      "Train Epoch: 50 [48640/60000 (81%)] lr: 2e-05\tLoss: 0.160371\n",
      "Train Epoch: 50 [51200/60000 (85%)] lr: 2e-05\tLoss: 0.173409\n",
      "Train Epoch: 50 [53760/60000 (89%)] lr: 2e-05\tLoss: 0.121261\n",
      "Train Epoch: 50 [56320/60000 (94%)] lr: 2e-05\tLoss: 0.173597\n",
      "Train Epoch: 50 [58880/60000 (98%)] lr: 2e-05\tLoss: 0.130131\n",
      "Finish 50 epoch(s). Epoch loss: 0.1616350917423025.\n"
     ]
    }
   ],
   "source": [
    "train()"
   ]
  },
  {
   "cell_type": "code",
   "execution_count": 136,
   "metadata": {},
   "outputs": [],
   "source": [
    "torch.save(model.state_dict(),\"model_sobol.pt\")"
   ]
  },
  {
   "cell_type": "markdown",
   "metadata": {},
   "source": [
    "Test model"
   ]
  },
  {
   "cell_type": "code",
   "execution_count": 137,
   "metadata": {},
   "outputs": [],
   "source": [
    "def test_drop_Eoutput(T=100,criterion = nn.CrossEntropyLoss()):\n",
    "    model.train()\n",
    "    test_loss=0\n",
    "    correct=0\n",
    "    y_true=[]\n",
    "    y_pred=[]\n",
    "    for batch_idx, (xdata,ydata) in enumerate(test_loader):\n",
    "        batch_size=xdata.shape[0]\n",
    "        xdata=xdata.to(device).view(batch_size,-1)\n",
    "        ydata=ydata.to(device)\n",
    "        outputlist=[]\n",
    "        for i in range(T):\n",
    "            outputlist.append(torch.unsqueeze(model(xdata),0))\n",
    "        output_mean=torch.cat(outputlist,dim=0).mean(dim=0)\n",
    "        test_loss+=criterion(output_mean,ydata)\n",
    "        pred=output_mean.max(dim=1,keepdim=True)[1]\n",
    "        y_pred.append(pred)\n",
    "        y_true.append(ydata)\n",
    "        correct+=pred.eq(ydata.view_as(pred)).cpu().sum()\n",
    "        if (batch_idx+1) % (int(len(test_loader)/10))==0:\n",
    "            print(\"Test finished {:.0f}%\".format(100. * (batch_idx+1) / len(test_loader)))\n",
    "    test_loss/=len(test_loader)\n",
    "    print('\\nMC Dropout Test set: Average loss: {:.4f}, Accuracy: {}/{} ({:.2f}%)\\n'.format(\n",
    "        test_loss, correct, len(test_loader.dataset),\n",
    "        100. * correct / len(test_loader.dataset)))\n",
    "    y_pred=torch.cat(y_pred,dim=0)\n",
    "    y_true=torch.cat(y_true,dim=0)\n",
    "    print(confusion_matrix(y_true,y_pred))\n",
    "    "
   ]
  },
  {
   "cell_type": "code",
   "execution_count": 138,
   "metadata": {},
   "outputs": [
    {
     "name": "stdout",
     "output_type": "stream",
     "text": [
      "Test finished 10%\n",
      "Test finished 20%\n",
      "Test finished 30%\n",
      "Test finished 40%\n",
      "Test finished 50%\n",
      "Test finished 60%\n",
      "Test finished 70%\n",
      "Test finished 80%\n",
      "Test finished 90%\n",
      "Test finished 100%\n",
      "\n",
      "MC Dropout Test set: Average loss: 0.0872, Accuracy: 9738/10000 (97.00%)\n",
      "\n",
      "[[ 972    0    1    1    0    1    2    1    2    0]\n",
      " [   0 1122    3    1    0    1    4    0    4    0]\n",
      " [   6    0 1002    3    2    0    2    9    8    0]\n",
      " [   0    0    3  985    0    4    0    7    8    3]\n",
      " [   2    0    1    0  951    0    5    1    2   20]\n",
      " [   2    0    0   11    1  862    7    2    4    3]\n",
      " [   5    3    0    0    2    3  939    0    6    0]\n",
      " [   2    7   11    2    1    0    0  991    0   14]\n",
      " [   4    1    3    6    3    4    4    2  941    6]\n",
      " [   4    6    1    8    5    1    0    6    5  973]]\n"
     ]
    }
   ],
   "source": [
    "test_drop_Eoutput()"
   ]
  },
  {
   "cell_type": "code",
   "execution_count": 5,
   "metadata": {},
   "outputs": [],
   "source": [
    "testDataset=datasets.MNIST('data', train=False, download=True,\n",
    "                   transform=transforms.ToTensor())"
   ]
  },
  {
   "cell_type": "markdown",
   "metadata": {},
   "source": [
    "Indice de sobol du premier ordre"
   ]
  },
  {
   "cell_type": "code",
   "execution_count": 6,
   "metadata": {},
   "outputs": [],
   "source": [
    "def i_Sobol_numerateur(X,y,i,monte_num=100,p=0.5):\n",
    "    X=X.view(-1)\n",
    "    \n",
    "    #calculate E[y\\z_i=0]\n",
    "    Z=torch.bernoulli(p*torch.ones(monte_num,784))\n",
    "    Z[:,i]=0\n",
    "    Xp=X*Z\n",
    "    E_y_zi0=F.softmax(model(Xp),dim=1).mean(dim=0)[y]\n",
    "\n",
    "    \n",
    "    #calculate E[y\\z_i=1]\n",
    "    Z=torch.bernoulli(p*torch.ones(monte_num,784))\n",
    "    Z[:,i]=1\n",
    "    Xp=X*Z\n",
    "    E_y_zi1=F.softmax(model(Xp),dim=1).mean(dim=0)[y]\n",
    "\n",
    "    return p*(1-p)*E_y_zi0.item()**2+p*(1-p)*E_y_zi1.item()**2-2*p*(1-p)*E_y_zi1.item()*E_y_zi0.item()\n",
    "        "
   ]
  },
  {
   "cell_type": "code",
   "execution_count": 7,
   "metadata": {},
   "outputs": [],
   "source": [
    "def Sobol_premier_ordre(X,y,monte_num=100,p=0.5):\n",
    "    model.eval()\n",
    "    X=X.view(-1)\n",
    "    X_expand=X.expand(monte_num,784)\n",
    "    #calculate var(y)\n",
    "    Z=torch.bernoulli(p*torch.ones(monte_num,784))\n",
    "    Xp=X*Z\n",
    "    V_y=F.softmax(model(Xp),dim=1).var(dim=0)[y]\n",
    "    \n",
    "    if V_y==0:\n",
    "        print(\"V[y]=0\")\n",
    "        V_y=1\n",
    "    else:\n",
    "        V_y=V_y.item()\n",
    "    #calculate indice de sobol for each pixel\n",
    "    l_res=[]\n",
    "    for i in range(784):\n",
    "        l_res.append(i_Sobol_numerateur(X,y,i,monte_num,p)/V_y)\n",
    "    return l_res"
   ]
  },
  {
   "cell_type": "code",
   "execution_count": 168,
   "metadata": {},
   "outputs": [
    {
     "name": "stdout",
     "output_type": "stream",
     "text": [
      "Number: 6\n",
      "Image de X:\n"
     ]
    },
    {
     "name": "stderr",
     "output_type": "stream",
     "text": [
      "/home/h86479/anaconda3/lib/python3.7/site-packages/ipykernel_launcher.py:3: UserWarning: To copy construct from a tensor, it is recommended to use sourceTensor.clone().detach() or sourceTensor.clone().detach().requires_grad_(True), rather than torch.tensor(sourceTensor).\n",
      "  This is separate from the ipykernel package so we can avoid doing imports until\n"
     ]
    },
    {
     "data": {
      "image/png": "[encoded data removed]",
      "text/plain": [
       "<Figure size 432x288 with 1 Axes>"
      ]
     },
     "metadata": {
      "needs_background": "light"
     },
     "output_type": "display_data"
    },
    {
     "name": "stdout",
     "output_type": "stream",
     "text": [
      "Indice de sobol du premier ordre:\n"
     ]
    },
    {
     "data": {
      "image/png": "[encoded data removed]",
      "text/plain": [
       "<Figure size 432x288 with 1 Axes>"
      ]
     },
     "metadata": {
      "needs_background": "light"
     },
     "output_type": "display_data"
    },
    {
     "name": "stdout",
     "output_type": "stream",
     "text": [
      "Number: 0\n",
      "Image de X:\n"
     ]
    },
    {
     "data": {
      "image/png": "[encoded data removed]",
      "text/plain": [
       "<Figure size 432x288 with 1 Axes>"
      ]
     },
     "metadata": {
      "needs_background": "light"
     },
     "output_type": "display_data"
    },
    {
     "name": "stdout",
     "output_type": "stream",
     "text": [
      "Indice de sobol du premier ordre:\n"
     ]
    },
    {
     "data": {
      "image/png": "[encoded data removed]",
      "text/plain": [
       "<Figure size 432x288 with 1 Axes>"
      ]
     },
     "metadata": {
      "needs_background": "light"
     },
     "output_type": "display_data"
    },
    {
     "name": "stdout",
     "output_type": "stream",
     "text": [
      "Number: 5\n",
      "Image de X:\n"
     ]
    },
    {
     "data": {
      "image/png": "[encoded data removed]",
      "text/plain": [
       "<Figure size 432x288 with 1 Axes>"
      ]
     },
     "metadata": {
      "needs_background": "light"
     },
     "output_type": "display_data"
    },
    {
     "name": "stdout",
     "output_type": "stream",
     "text": [
      "Indice de sobol du premier ordre:\n"
     ]
    },
    {
     "data": {
      "image/png": "[encoded data removed]",
      "text/plain": [
       "<Figure size 432x288 with 1 Axes>"
      ]
     },
     "metadata": {
      "needs_background": "light"
     },
     "output_type": "display_data"
    },
    {
     "name": "stdout",
     "output_type": "stream",
     "text": [
      "Number: 4\n",
      "Image de X:\n"
     ]
    },
    {
     "data": {
      "image/png": "[encoded data removed]",
      "text/plain": [
       "<Figure size 432x288 with 1 Axes>"
      ]
     },
     "metadata": {
      "needs_background": "light"
     },
     "output_type": "display_data"
    },
    {
     "name": "stdout",
     "output_type": "stream",
     "text": [
      "Indice de sobol du premier ordre:\n"
     ]
    },
    {
     "data": {
      "image/png": "[encoded data removed]",
      "text/plain": [
       "<Figure size 432x288 with 1 Axes>"
      ]
     },
     "metadata": {
      "needs_background": "light"
     },
     "output_type": "display_data"
    },
    {
     "name": "stdout",
     "output_type": "stream",
     "text": [
      "Number: 9\n",
      "Image de X:\n"
     ]
    },
    {
     "data": {
      "image/png": "[encoded data removed]",
      "text/plain": [
       "<Figure size 432x288 with 1 Axes>"
      ]
     },
     "metadata": {
      "needs_background": "light"
     },
     "output_type": "display_data"
    },
    {
     "name": "stdout",
     "output_type": "stream",
     "text": [
      "Indice de sobol du premier ordre:\n"
     ]
    },
    {
     "data": {
      "image/png": "[encoded data removed]",
      "text/plain": [
       "<Figure size 432x288 with 1 Axes>"
      ]
     },
     "metadata": {
      "needs_background": "light"
     },
     "output_type": "display_data"
    },
    {
     "name": "stdout",
     "output_type": "stream",
     "text": [
      "Number: 9\n",
      "Image de X:\n"
     ]
    },
    {
     "data": {
      "image/png": "[encoded data removed]",
      "text/plain": [
       "<Figure size 432x288 with 1 Axes>"
      ]
     },
     "metadata": {
      "needs_background": "light"
     },
     "output_type": "display_data"
    },
    {
     "name": "stdout",
     "output_type": "stream",
     "text": [
      "Indice de sobol du premier ordre:\n"
     ]
    },
    {
     "data": {
      "image/png": "[encoded data removed]",
      "text/plain": [
       "<Figure size 432x288 with 1 Axes>"
      ]
     },
     "metadata": {
      "needs_background": "light"
     },
     "output_type": "display_data"
    },
    {
     "name": "stdout",
     "output_type": "stream",
     "text": [
      "Number: 2\n",
      "Image de X:\n"
     ]
    },
    {
     "data": {
      "image/png": "[encoded data removed]",
      "text/plain": [
       "<Figure size 432x288 with 1 Axes>"
      ]
     },
     "metadata": {
      "needs_background": "light"
     },
     "output_type": "display_data"
    },
    {
     "name": "stdout",
     "output_type": "stream",
     "text": [
      "Indice de sobol du premier ordre:\n"
     ]
    },
    {
     "data": {
      "image/png": "[encoded data removed]",
      "text/plain": [
       "<Figure size 432x288 with 1 Axes>"
      ]
     },
     "metadata": {
      "needs_background": "light"
     },
     "output_type": "display_data"
    },
    {
     "name": "stdout",
     "output_type": "stream",
     "text": [
      "Number: 1\n",
      "Image de X:\n"
     ]
    },
    {
     "data": {
      "image/png": "[encoded data removed]",
      "text/plain": [
       "<Figure size 432x288 with 1 Axes>"
      ]
     },
     "metadata": {
      "needs_background": "light"
     },
     "output_type": "display_data"
    },
    {
     "name": "stdout",
     "output_type": "stream",
     "text": [
      "Indice de sobol du premier ordre:\n"
     ]
    },
    {
     "data": {
      "image/png": "[encoded data removed]",
      "text/plain": [
       "<Figure size 432x288 with 1 Axes>"
      ]
     },
     "metadata": {
      "needs_background": "light"
     },
     "output_type": "display_data"
    },
    {
     "name": "stdout",
     "output_type": "stream",
     "text": [
      "Number: 9\n",
      "Image de X:\n"
     ]
    },
    {
     "data": {
      "image/png": "[encoded data removed]",
      "text/plain": [
       "<Figure size 432x288 with 1 Axes>"
      ]
     },
     "metadata": {
      "needs_background": "light"
     },
     "output_type": "display_data"
    },
    {
     "name": "stdout",
     "output_type": "stream",
     "text": [
      "Indice de sobol du premier ordre:\n"
     ]
    },
    {
     "data": {
      "image/png": "[encoded data removed]",
      "text/plain": [
       "<Figure size 432x288 with 1 Axes>"
      ]
     },
     "metadata": {
      "needs_background": "light"
     },
     "output_type": "display_data"
    },
    {
     "name": "stdout",
     "output_type": "stream",
     "text": [
      "Number: 4\n",
      "Image de X:\n"
     ]
    },
    {
     "data": {
      "image/png": "[encoded data removed]",
      "text/plain": [
       "<Figure size 432x288 with 1 Axes>"
      ]
     },
     "metadata": {
      "needs_background": "light"
     },
     "output_type": "display_data"
    },
    {
     "name": "stdout",
     "output_type": "stream",
     "text": [
      "Indice de sobol du premier ordre:\n"
     ]
    },
    {
     "data": {
      "image/png": "[encoded data removed]",
      "text/plain": [
       "<Figure size 432x288 with 1 Axes>"
      ]
     },
     "metadata": {
      "needs_background": "light"
     },
     "output_type": "display_data"
    },
    {
     "name": "stdout",
     "output_type": "stream",
     "text": [
      "Number: 8\n",
      "Image de X:\n"
     ]
    },
    {
     "data": {
      "image/png": "[encoded data removed]",
      "text/plain": [
       "<Figure size 432x288 with 1 Axes>"
      ]
     },
     "metadata": {
      "needs_background": "light"
     },
     "output_type": "display_data"
    },
    {
     "name": "stdout",
     "output_type": "stream",
     "text": [
      "Indice de sobol du premier ordre:\n"
     ]
    },
    {
     "data": {
      "image/png": "[encoded data removed]",
      "text/plain": [
       "<Figure size 432x288 with 1 Axes>"
      ]
     },
     "metadata": {
      "needs_background": "light"
     },
     "output_type": "display_data"
    },
    {
     "name": "stdout",
     "output_type": "stream",
     "text": [
      "Number: 7\n",
      "Image de X:\n"
     ]
    },
    {
     "data": {
      "image/png": "[encoded data removed]",
      "text/plain": [
       "<Figure size 432x288 with 1 Axes>"
      ]
     },
     "metadata": {
      "needs_background": "light"
     },
     "output_type": "display_data"
    },
    {
     "name": "stdout",
     "output_type": "stream",
     "text": [
      "Indice de sobol du premier ordre:\n"
     ]
    },
    {
     "data": {
      "image/png": "[encoded data removed]",
      "text/plain": [
       "<Figure size 432x288 with 1 Axes>"
      ]
     },
     "metadata": {
      "needs_background": "light"
     },
     "output_type": "display_data"
    },
    {
     "name": "stdout",
     "output_type": "stream",
     "text": [
      "Number: 3\n",
      "Image de X:\n"
     ]
    },
    {
     "data": {
      "image/png": "[encoded data removed]",
      "text/plain": [
       "<Figure size 432x288 with 1 Axes>"
      ]
     },
     "metadata": {
      "needs_background": "light"
     },
     "output_type": "display_data"
    },
    {
     "name": "stdout",
     "output_type": "stream",
     "text": [
      "Indice de sobol du premier ordre:\n"
     ]
    },
    {
     "data": {
      "image/png": "[encoded data removed]",
      "text/plain": [
       "<Figure size 432x288 with 1 Axes>"
      ]
     },
     "metadata": {
      "needs_background": "light"
     },
     "output_type": "display_data"
    },
    {
     "name": "stdout",
     "output_type": "stream",
     "text": [
      "Number: 9\n",
      "Image de X:\n"
     ]
    },
    {
     "data": {
      "image/png": "[encoded data removed]",
      "text/plain": [
       "<Figure size 432x288 with 1 Axes>"
      ]
     },
     "metadata": {
      "needs_background": "light"
     },
     "output_type": "display_data"
    },
    {
     "name": "stdout",
     "output_type": "stream",
     "text": [
      "Indice de sobol du premier ordre:\n"
     ]
    },
    {
     "data": {
      "image/png": "[encoded data removed]",
      "text/plain": [
       "<Figure size 432x288 with 1 Axes>"
      ]
     },
     "metadata": {
      "needs_background": "light"
     },
     "output_type": "display_data"
    },
    {
     "name": "stdout",
     "output_type": "stream",
     "text": [
      "Number: 7\n",
      "Image de X:\n"
     ]
    },
    {
     "data": {
      "image/png": "[encoded data removed]",
      "text/plain": [
       "<Figure size 432x288 with 1 Axes>"
      ]
     },
     "metadata": {
      "needs_background": "light"
     },
     "output_type": "display_data"
    },
    {
     "name": "stdout",
     "output_type": "stream",
     "text": [
      "Indice de sobol du premier ordre:\n"
     ]
    },
    {
     "data": {
      "image/png": "[encoded data removed]",
      "text/plain": [
       "<Figure size 432x288 with 1 Axes>"
      ]
     },
     "metadata": {
      "needs_background": "light"
     },
     "output_type": "display_data"
    },
    {
     "name": "stdout",
     "output_type": "stream",
     "text": [
      "Number: 4\n",
      "Image de X:\n"
     ]
    },
    {
     "data": {
      "image/png": "[encoded data removed]",
      "text/plain": [
       "<Figure size 432x288 with 1 Axes>"
      ]
     },
     "metadata": {
      "needs_background": "light"
     },
     "output_type": "display_data"
    },
    {
     "name": "stdout",
     "output_type": "stream",
     "text": [
      "Indice de sobol du premier ordre:\n"
     ]
    },
    {
     "data": {
      "image/png": "[encoded data removed]",
      "text/plain": [
       "<Figure size 432x288 with 1 Axes>"
      ]
     },
     "metadata": {
      "needs_background": "light"
     },
     "output_type": "display_data"
    },
    {
     "name": "stdout",
     "output_type": "stream",
     "text": [
      "Number: 4\n",
      "Image de X:\n"
     ]
    },
    {
     "data": {
      "image/png": "[encoded data removed]",
      "text/plain": [
       "<Figure size 432x288 with 1 Axes>"
      ]
     },
     "metadata": {
      "needs_background": "light"
     },
     "output_type": "display_data"
    },
    {
     "name": "stdout",
     "output_type": "stream",
     "text": [
      "Indice de sobol du premier ordre:\n"
     ]
    },
    {
     "data": {
      "image/png": "[encoded data removed]",
      "text/plain": [
       "<Figure size 432x288 with 1 Axes>"
      ]
     },
     "metadata": {
      "needs_background": "light"
     },
     "output_type": "display_data"
    },
    {
     "name": "stdout",
     "output_type": "stream",
     "text": [
      "Number: 4\n",
      "Image de X:\n"
     ]
    },
    {
     "data": {
      "image/png": "[encoded data removed]",
      "text/plain": [
       "<Figure size 432x288 with 1 Axes>"
      ]
     },
     "metadata": {
      "needs_background": "light"
     },
     "output_type": "display_data"
    },
    {
     "ename": "KeyboardInterrupt",
     "evalue": "",
     "output_type": "error",
     "traceback": [
      "\u001b[0;31m---------------------------------------------------------------------------\u001b[0m",
      "\u001b[0;31mKeyboardInterrupt\u001b[0m                         Traceback (most recent call last)",
      "\u001b[0;32m<ipython-input-168-4ee090445d7b>\u001b[0m in \u001b[0;36m<module>\u001b[0;34m\u001b[0m\n\u001b[1;32m      7\u001b[0m     \u001b[0mplt\u001b[0m\u001b[0;34m.\u001b[0m\u001b[0mshow\u001b[0m\u001b[0;34m(\u001b[0m\u001b[0;34m)\u001b[0m\u001b[0;34m\u001b[0m\u001b[0;34m\u001b[0m\u001b[0m\n\u001b[1;32m      8\u001b[0m     \u001b[0mmodel\u001b[0m\u001b[0;34m.\u001b[0m\u001b[0meval\u001b[0m\u001b[0;34m(\u001b[0m\u001b[0;34m)\u001b[0m\u001b[0;34m\u001b[0m\u001b[0;34m\u001b[0m\u001b[0m\n\u001b[0;32m----> 9\u001b[0;31m     \u001b[0ml_res\u001b[0m\u001b[0;34m=\u001b[0m\u001b[0mSobol_premier_ordre\u001b[0m\u001b[0;34m(\u001b[0m\u001b[0mX\u001b[0m\u001b[0;34m,\u001b[0m\u001b[0my\u001b[0m\u001b[0;34m,\u001b[0m\u001b[0mmonte_num\u001b[0m\u001b[0;34m=\u001b[0m\u001b[0;36m1000\u001b[0m\u001b[0;34m,\u001b[0m\u001b[0mp\u001b[0m\u001b[0;34m=\u001b[0m\u001b[0;36m0.1\u001b[0m\u001b[0;34m)\u001b[0m\u001b[0;34m\u001b[0m\u001b[0;34m\u001b[0m\u001b[0m\n\u001b[0m\u001b[1;32m     10\u001b[0m     \u001b[0ml_res_t\u001b[0m\u001b[0;34m=\u001b[0m\u001b[0mtorch\u001b[0m\u001b[0;34m.\u001b[0m\u001b[0mtensor\u001b[0m\u001b[0;34m(\u001b[0m\u001b[0ml_res\u001b[0m\u001b[0;34m)\u001b[0m\u001b[0;34m.\u001b[0m\u001b[0mview\u001b[0m\u001b[0;34m(\u001b[0m\u001b[0;36m28\u001b[0m\u001b[0;34m,\u001b[0m\u001b[0;36m28\u001b[0m\u001b[0;34m)\u001b[0m\u001b[0;34m\u001b[0m\u001b[0;34m\u001b[0m\u001b[0m\n\u001b[1;32m     11\u001b[0m     \u001b[0mprint\u001b[0m\u001b[0;34m(\u001b[0m\u001b[0;34m\"Indice de sobol du premier ordre:\"\u001b[0m\u001b[0;34m)\u001b[0m\u001b[0;34m\u001b[0m\u001b[0;34m\u001b[0m\u001b[0m\n",
      "\u001b[0;32m<ipython-input-141-6128586dda57>\u001b[0m in \u001b[0;36mSobol_premier_ordre\u001b[0;34m(X, y, monte_num, p)\u001b[0m\n\u001b[1;32m     16\u001b[0m     \u001b[0ml_res\u001b[0m\u001b[0;34m=\u001b[0m\u001b[0;34m[\u001b[0m\u001b[0;34m]\u001b[0m\u001b[0;34m\u001b[0m\u001b[0;34m\u001b[0m\u001b[0m\n\u001b[1;32m     17\u001b[0m     \u001b[0;32mfor\u001b[0m \u001b[0mi\u001b[0m \u001b[0;32min\u001b[0m \u001b[0mrange\u001b[0m\u001b[0;34m(\u001b[0m\u001b[0;36m784\u001b[0m\u001b[0;34m)\u001b[0m\u001b[0;34m:\u001b[0m\u001b[0;34m\u001b[0m\u001b[0;34m\u001b[0m\u001b[0m\n\u001b[0;32m---> 18\u001b[0;31m         \u001b[0ml_res\u001b[0m\u001b[0;34m.\u001b[0m\u001b[0mappend\u001b[0m\u001b[0;34m(\u001b[0m\u001b[0mi_Sobol_numerateur\u001b[0m\u001b[0;34m(\u001b[0m\u001b[0mX\u001b[0m\u001b[0;34m,\u001b[0m\u001b[0my\u001b[0m\u001b[0;34m,\u001b[0m\u001b[0mi\u001b[0m\u001b[0;34m,\u001b[0m\u001b[0mmonte_num\u001b[0m\u001b[0;34m,\u001b[0m\u001b[0mp\u001b[0m\u001b[0;34m)\u001b[0m\u001b[0;34m/\u001b[0m\u001b[0mV_y\u001b[0m\u001b[0;34m)\u001b[0m\u001b[0;34m\u001b[0m\u001b[0;34m\u001b[0m\u001b[0m\n\u001b[0m\u001b[1;32m     19\u001b[0m     \u001b[0;32mreturn\u001b[0m \u001b[0ml_res\u001b[0m\u001b[0;34m\u001b[0m\u001b[0;34m\u001b[0m\u001b[0m\n",
      "\u001b[0;32m<ipython-input-140-5097e44e796b>\u001b[0m in \u001b[0;36mi_Sobol_numerateur\u001b[0;34m(X, y, i, monte_num, p)\u001b[0m\n\u001b[1;32m      3\u001b[0m \u001b[0;34m\u001b[0m\u001b[0m\n\u001b[1;32m      4\u001b[0m     \u001b[0;31m#calculate E[y\\z_i=0]\u001b[0m\u001b[0;34m\u001b[0m\u001b[0;34m\u001b[0m\u001b[0;34m\u001b[0m\u001b[0m\n\u001b[0;32m----> 5\u001b[0;31m     \u001b[0mZ\u001b[0m\u001b[0;34m=\u001b[0m\u001b[0mtorch\u001b[0m\u001b[0;34m.\u001b[0m\u001b[0mbernoulli\u001b[0m\u001b[0;34m(\u001b[0m\u001b[0mp\u001b[0m\u001b[0;34m*\u001b[0m\u001b[0mtorch\u001b[0m\u001b[0;34m.\u001b[0m\u001b[0mones\u001b[0m\u001b[0;34m(\u001b[0m\u001b[0mmonte_num\u001b[0m\u001b[0;34m,\u001b[0m\u001b[0;36m784\u001b[0m\u001b[0;34m)\u001b[0m\u001b[0;34m)\u001b[0m\u001b[0;34m\u001b[0m\u001b[0;34m\u001b[0m\u001b[0m\n\u001b[0m\u001b[1;32m      6\u001b[0m     \u001b[0mZ\u001b[0m\u001b[0;34m[\u001b[0m\u001b[0;34m:\u001b[0m\u001b[0;34m,\u001b[0m\u001b[0mi\u001b[0m\u001b[0;34m]\u001b[0m\u001b[0;34m=\u001b[0m\u001b[0;36m0\u001b[0m\u001b[0;34m\u001b[0m\u001b[0;34m\u001b[0m\u001b[0m\n\u001b[1;32m      7\u001b[0m     \u001b[0mXp\u001b[0m\u001b[0;34m=\u001b[0m\u001b[0mX\u001b[0m\u001b[0;34m*\u001b[0m\u001b[0mZ\u001b[0m\u001b[0;34m\u001b[0m\u001b[0;34m\u001b[0m\u001b[0m\n",
      "\u001b[0;31mKeyboardInterrupt\u001b[0m: "
     ]
    }
   ],
   "source": [
    "\n",
    "for i in range(100,200):\n",
    "    X=testDataset[i][0]\n",
    "    y=torch.tensor(testDataset[i][1])\n",
    "    print(\"Number: {}\".format(y.item()))\n",
    "    print(\"Image de X:\")\n",
    "    plt.imshow(X.squeeze().numpy())\n",
    "    plt.show()\n",
    "    model.eval()\n",
    "    l_res=Sobol_premier_ordre(X,y,monte_num=1000,p=0.1)\n",
    "    l_res_t=torch.tensor(l_res).view(28,28)\n",
    "    print(\"Indice de sobol du premier ordre:\")\n",
    "    plt.imshow(l_res_t.squeeze().numpy())\n",
    "    plt.show()"
   ]
  },
  {
   "cell_type": "markdown",
   "metadata": {},
   "source": [
    "Indice de sobol de l'ordre total"
   ]
  },
  {
   "cell_type": "code",
   "execution_count": 169,
   "metadata": {},
   "outputs": [],
   "source": [
    "def i_Sobol_numerateur_total(X,y,i,monte_num=100,p=0.5):\n",
    "    model.eval()\n",
    "    X=X.view(-1)\n",
    "    X_expand=X.expand(monte_num,784)\n",
    "    \n",
    "    #Generate z\n",
    "    Z0=torch.bernoulli(p*torch.ones(monte_num,784))\n",
    "    Z0[:,i]=0\n",
    "    Z1=torch.bernoulli(p*torch.ones(monte_num,784))\n",
    "    Z1[:,i]=1\n",
    "    Xi0=X*Z0\n",
    "    Xi1=X*Z1\n",
    "    V_list=(1-p)*F.softmax(model(Xi0),dim=1)[:,y]+p*F.softmax(model(Xi1),dim=1)[:,y]\n",
    "\n",
    "    \n",
    "    return V_list.var().item()\n",
    "        "
   ]
  },
  {
   "cell_type": "code",
   "execution_count": 176,
   "metadata": {},
   "outputs": [],
   "source": [
    "def Sobol_ordre_total(X,y,monte_num=100,p=0.5):\n",
    "    model.eval()\n",
    "    X=X.view(-1)\n",
    "    X_expand=X.expand(monte_num,784)\n",
    "    #calculate var(y)\n",
    "    Z=torch.bernoulli(p*torch.ones(monte_num,784))\n",
    "    Xp=X*Z\n",
    "    V_y=F.softmax(model(Xp),dim=1).var(dim=0)[y]\n",
    "    \n",
    "    if V_y==0:\n",
    "        print(\"V[y]=0\")\n",
    "        V_y=1\n",
    "    else:\n",
    "        V_y=V_y.item()\n",
    "    #calculate indice de sobol for each pixel\n",
    "    l_res=[]\n",
    "    for i in range(784):\n",
    "        \n",
    "        l_res.append(1-i_Sobol_numerateur_total(X,y,i,monte_num,p)/V_y)\n",
    "    return l_res"
   ]
  },
  {
   "cell_type": "code",
   "execution_count": 204,
   "metadata": {},
   "outputs": [
    {
     "name": "stdout",
     "output_type": "stream",
     "text": [
      "Number: 1\n",
      "Image de X:\n"
     ]
    },
    {
     "data": {
      "image/png": "[encoded data removed]",
      "text/plain": [
       "<matplotlib.figure.Figure at 0x1d26d63fda0>"
      ]
     },
     "metadata": {},
     "output_type": "display_data"
    },
    {
     "name": "stdout",
     "output_type": "stream",
     "text": [
      "Indice de sobol de l'ordre total:\n"
     ]
    },
    {
     "data": {
      "image/png": "[encoded data removed]",
      "text/plain": [
       "<matplotlib.figure.Figure at 0x1d26e02eb70>"
      ]
     },
     "metadata": {},
     "output_type": "display_data"
    }
   ],
   "source": [
    "i=2\n",
    "X=testDataset[i][0]\n",
    "y=torch.tensor(testDataset[i][1])\n",
    "print(\"Number: {}\".format(y.item()))\n",
    "print(\"Image de X:\")\n",
    "plt.imshow(X.squeeze().numpy())\n",
    "plt.show()\n",
    "model.eval()\n",
    "l_res=Sobol_ordre_total(X,y,monte_num=100000,p=0.5)\n",
    "l_res_t=torch.tensor(l_res).view(28,28)\n",
    "print(\"Indice de sobol de l'ordre total:\")\n",
    "plt.imshow(l_res_t.squeeze().numpy())\n",
    "plt.show()"
   ]
  },
  {
   "cell_type": "code",
   "execution_count": null,
   "metadata": {},
   "outputs": [
    {
     "name": "stdout",
     "output_type": "stream",
     "text": [
      "Number: 0\n",
      "Image de X:\n"
     ]
    },
    {
     "name": "stderr",
     "output_type": "stream",
     "text": [
      "/home/h86479/anaconda3/lib/python3.7/site-packages/ipykernel_launcher.py:4: UserWarning: To copy construct from a tensor, it is recommended to use sourceTensor.clone().detach() or sourceTensor.clone().detach().requires_grad_(True), rather than torch.tensor(sourceTensor).\n",
      "  after removing the cwd from sys.path.\n"
     ]
    },
    {
     "data": {
      "image/png": "[encoded data removed]",
      "text/plain": [
       "<Figure size 432x288 with 1 Axes>"
      ]
     },
     "metadata": {
      "needs_background": "light"
     },
     "output_type": "display_data"
    },
    {
     "name": "stdout",
     "output_type": "stream",
     "text": [
      "Indice de sobol de l'ordre total:\n"
     ]
    },
    {
     "data": {
      "image/png": "[encoded data removed]",
      "text/plain": [
       "<Figure size 432x288 with 1 Axes>"
      ]
     },
     "metadata": {
      "needs_background": "light"
     },
     "output_type": "display_data"
    },
    {
     "name": "stdout",
     "output_type": "stream",
     "text": [
      "Number: 6\n",
      "Image de X:\n"
     ]
    },
    {
     "data": {
      "image/png": "[encoded data removed]",
      "text/plain": [
       "<Figure size 432x288 with 1 Axes>"
      ]
     },
     "metadata": {
      "needs_background": "light"
     },
     "output_type": "display_data"
    },
    {
     "name": "stdout",
     "output_type": "stream",
     "text": [
      "Indice de sobol de l'ordre total:\n"
     ]
    },
    {
     "data": {
      "image/png": "[encoded data removed]",
      "text/plain": [
       "<Figure size 432x288 with 1 Axes>"
      ]
     },
     "metadata": {
      "needs_background": "light"
     },
     "output_type": "display_data"
    },
    {
     "name": "stdout",
     "output_type": "stream",
     "text": [
      "Number: 9\n",
      "Image de X:\n"
     ]
    },
    {
     "data": {
      "image/png": "[encoded data removed]",
      "text/plain": [
       "<Figure size 432x288 with 1 Axes>"
      ]
     },
     "metadata": {
      "needs_background": "light"
     },
     "output_type": "display_data"
    },
    {
     "name": "stdout",
     "output_type": "stream",
     "text": [
      "Indice de sobol de l'ordre total:\n"
     ]
    },
    {
     "data": {
      "image/png": "[encoded data removed]",
      "text/plain": [
       "<Figure size 432x288 with 1 Axes>"
      ]
     },
     "metadata": {
      "needs_background": "light"
     },
     "output_type": "display_data"
    },
    {
     "name": "stdout",
     "output_type": "stream",
     "text": [
      "Number: 0\n",
      "Image de X:\n"
     ]
    },
    {
     "data": {
      "image/png": "[encoded data removed]",
      "text/plain": [
       "<Figure size 432x288 with 1 Axes>"
      ]
     },
     "metadata": {
      "needs_background": "light"
     },
     "output_type": "display_data"
    }
   ],
   "source": [
    "for i in range(10,20):\n",
    "\n",
    "    X=testDataset[i][0]\n",
    "    y=torch.tensor(testDataset[i][1])\n",
    "    print(\"Number: {}\".format(y.item()))\n",
    "    print(\"Image de X:\")\n",
    "    plt.imshow(X.squeeze().numpy())\n",
    "    plt.show()\n",
    "    model.eval()\n",
    "    l_res=Sobol_ordre_total(X,y,monte_num=100000,p=0.5)\n",
    "    l_res_t=torch.tensor(l_res).view(28,28)\n",
    "    print(\"Indice de sobol de l'ordre total:\")\n",
    "    plt.imshow(l_res_t.squeeze().numpy())\n",
    "    plt.show()"
   ]
  },
  {
   "cell_type": "code",
   "execution_count": null,
   "metadata": {},
   "outputs": [],
   "source": []
  }
 ],
 "metadata": {
  "kernelspec": {
   "display_name": "Python 3",
   "language": "python",
   "name": "python3"
  },
  "language_info": {
   "codemirror_mode": {
    "name": "ipython",
    "version": 3
   },
   "file_extension": ".py",
   "mimetype": "text/x-python",
   "name": "python",
   "nbconvert_exporter": "python",
   "pygments_lexer": "ipython3",
   "version": "3.7.3"
  }
 },
 "nbformat": 4,
 "nbformat_minor": 2
}
